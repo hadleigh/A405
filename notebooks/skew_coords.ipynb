{
 "cells": [
  {
   "cell_type": "markdown",
   "metadata": {},
   "source": [
    "# Skew-T - ln P plot\n",
    "\n",
    "Demonstrate how to construct dry adiabats and isotherms for\n",
    "a thermodynamic diagram using the functions in\n",
    "[makeSkew.py](https://github.com/phaustin/A405/blob/master/a405skewT/makeSkew.py)"
   ]
  },
  {
   "cell_type": "code",
   "execution_count": 3,
   "metadata": {
    "collapsed": true
   },
   "outputs": [],
   "source": [
    "import numpy as np\n",
    "import pandas as pd\n",
    "import h5py\n",
    "from pprint import pformat"
   ]
  },
  {
   "cell_type": "markdown",
   "metadata": {},
   "source": [
    "### setting labels and ticks\n",
    "\n",
    "The next box shows how to set up a plot of a 5 degree isotherm in\n",
    "unskewed coordinates.   Not that I invert the yaxis so pressure increases\n",
    "downwards, and I make y a log scale and draw a horizontal grid."
   ]
  },
  {
   "cell_type": "code",
   "execution_count": 4,
   "metadata": {
    "collapsed": false
   },
   "outputs": [
    {
     "ename": "NameError",
     "evalue": "name 'plt' is not defined",
     "output_type": "error",
     "traceback": [
      "\u001b[0;31m---------------------------------------------------------------------------\u001b[0m",
      "\u001b[0;31mNameError\u001b[0m                                 Traceback (most recent call last)",
      "\u001b[0;32m<ipython-input-4-9d22b634dc4d>\u001b[0m in \u001b[0;36m<module>\u001b[0;34m()\u001b[0m\n\u001b[1;32m      2\u001b[0m \u001b[0mpress\u001b[0m\u001b[0;34m=\u001b[0m\u001b[0mnp\u001b[0m\u001b[0;34m.\u001b[0m\u001b[0mlinspace\u001b[0m\u001b[0;34m(\u001b[0m\u001b[0;36m200\u001b[0m\u001b[0;34m,\u001b[0m\u001b[0;36m1000\u001b[0m\u001b[0;34m,\u001b[0m\u001b[0;36m30\u001b[0m\u001b[0;34m)\u001b[0m\u001b[0;34m\u001b[0m\u001b[0m\n\u001b[1;32m      3\u001b[0m \u001b[0mtemps\u001b[0m\u001b[0;34m=\u001b[0m\u001b[0mnp\u001b[0m\u001b[0;34m.\u001b[0m\u001b[0mones_like\u001b[0m\u001b[0;34m(\u001b[0m\u001b[0mpress\u001b[0m\u001b[0;34m)\u001b[0m\u001b[0;34m*\u001b[0m\u001b[0;36m5\u001b[0m\u001b[0;34m\u001b[0m\u001b[0m\n\u001b[0;32m----> 4\u001b[0;31m \u001b[0mfig\u001b[0m\u001b[0;34m,\u001b[0m\u001b[0max\u001b[0m \u001b[0;34m=\u001b[0m \u001b[0mplt\u001b[0m\u001b[0;34m.\u001b[0m\u001b[0msubplots\u001b[0m\u001b[0;34m(\u001b[0m\u001b[0;36m1\u001b[0m\u001b[0;34m,\u001b[0m\u001b[0;36m1\u001b[0m\u001b[0;34m,\u001b[0m\u001b[0mfigsize\u001b[0m\u001b[0;34m=\u001b[0m\u001b[0;34m(\u001b[0m\u001b[0;36m10\u001b[0m\u001b[0;34m,\u001b[0m\u001b[0;36m8\u001b[0m\u001b[0;34m)\u001b[0m\u001b[0;34m)\u001b[0m\u001b[0;34m\u001b[0m\u001b[0m\n\u001b[0m\u001b[1;32m      5\u001b[0m \u001b[0max\u001b[0m\u001b[0;34m.\u001b[0m\u001b[0mplot\u001b[0m\u001b[0;34m(\u001b[0m\u001b[0mtemps\u001b[0m\u001b[0;34m,\u001b[0m\u001b[0mpress\u001b[0m\u001b[0;34m)\u001b[0m\u001b[0;34m\u001b[0m\u001b[0m\n\u001b[1;32m      6\u001b[0m \u001b[0max\u001b[0m\u001b[0;34m.\u001b[0m\u001b[0mset\u001b[0m\u001b[0;34m(\u001b[0m\u001b[0mxlim\u001b[0m\u001b[0;34m=\u001b[0m\u001b[0;34m[\u001b[0m\u001b[0;36m0\u001b[0m\u001b[0;34m,\u001b[0m\u001b[0;36m35\u001b[0m\u001b[0;34m]\u001b[0m\u001b[0;34m)\u001b[0m\u001b[0;34m\u001b[0m\u001b[0m\n",
      "\u001b[0;31mNameError\u001b[0m: name 'plt' is not defined"
     ]
    }
   ],
   "source": [
    "%matplotlib inline\n",
    "press=np.linspace(200,1000,30)\n",
    "temps=np.ones_like(press)*5\n",
    "fig,ax = plt.subplots(1,1,figsize=(10,8))\n",
    "ax.plot(temps,press)\n",
    "ax.set(xlim=[0,35])\n",
    "ax.invert_yaxis()\n",
    "ax.set_yscale('log')\n",
    "locs = np.array(range(100, 1100, 100))\n",
    "labels = locs\n",
    "ax.set_yticks(locs)\n",
    "ax.set_yticklabels(labels) # hand label the pressures\n",
    "ax.set_ybound((200, 1000))\n",
    "plt.setp(ax.get_xticklabels(), weight='bold')\n",
    "plt.setp(ax.get_yticklabels(), weight='bold')\n",
    "ax.yaxis.grid(True)\n"
   ]
  },
  {
   "cell_type": "markdown",
   "metadata": {},
   "source": [
    "### Skewed temperature coordinates\n",
    "\n",
    "If you try plotting your soundings on the conventional plot above, you'll see\n",
    "that the height-temperature dependence makes it difficult to see the temperature\n",
    "and dewpoint together.  The traditional approach is to slant the temperature\n",
    "line by a constant slope (note that this is different from rotating the line,\n",
    "because the y axis doesn't change)"
   ]
  },
  {
   "cell_type": "code",
   "execution_count": 5,
   "metadata": {
    "collapsed": true
   },
   "outputs": [],
   "source": [
    "def convertSkewToTemp(xcoord, press, skew):\n",
    "    \"\"\"\n",
    "    convertSkewToTemp(xcoord, press, skew)\n",
    "\n",
    "    Determines temperature from knowledge of a plotting coordinate\n",
    "    system and corresponding plot skew.\n",
    "    \n",
    "    Parameters\n",
    "    - - - - - -\n",
    "    xcoord : int\n",
    "        X coordinate in temperature plotting coordinates.\n",
    "    press : float\n",
    "        Pressure (hPa).\n",
    "    skew : int\n",
    "        Skew of a given coordinate system.\n",
    "\n",
    "    Returns\n",
    "    - - - -\n",
    "    Temp : float\n",
    "        Converted temperature in degC.\n",
    "\n",
    "    Examples\n",
    "    - - - - -\n",
    "    >>> convertSkewToTemp(300, 8.e4, 30)\n",
    "    638.6934574096806\n",
    "    \n",
    "    \"\"\"\n",
    "    Temp = xcoord  + skew * np.log(press);\n",
    "    return Temp\n",
    "\n",
    "def convertTempToSkew(Temp, press, skew):\n",
    "    \"\"\"\n",
    "    convertTempToSkew(Temp, press, skew)\n",
    "\n",
    "    Determines the transformed temperature in plotting coordinates.\n",
    "    \n",
    "    Parameters\n",
    "    - - - - - -\n",
    "    Temp : float\n",
    "        Temperature (degC)\n",
    "    press : float\n",
    "        Pressure (hPa).\n",
    "    skew : int\n",
    "        Designated skew factor of temperature.\n",
    "\n",
    "    Returns\n",
    "    - - - -\n",
    "    tempOut : float\n",
    "        Converted temperature (degC).\n",
    "\n",
    "    Examples\n",
    "    - - - - -\n",
    "    >>> convertTempToSkew(30., 8.e4, 30)\n",
    "    -308.69345740968055\n",
    "    \n",
    "    \"\"\"\n",
    "    \n",
    "    tempOut = Temp - skew * np.log(press);\n",
    "    return tempOut\n"
   ]
  },
  {
   "cell_type": "markdown",
   "metadata": {},
   "source": [
    "### Determining the skew\n",
    "\n",
    "Getting a isotherm with a 45 degree slope in these coordinates is tricky, because it depends on\n",
    "the shape of the plot and the exact range values chosen for the temperature and pressure axis.\n",
    "Calculating the slope that will give a 45 degree angle isn't particularly hard (try it), but\n",
    "it's easier to just try some different skew values, and then save the result so you can put\n",
    "your data up in the same coordinates.  For square plots with typical sounding ranges setting\n",
    "skew = 30 Kelvin  is about right"
   ]
  },
  {
   "cell_type": "code",
   "execution_count": 6,
   "metadata": {
    "collapsed": false
   },
   "outputs": [
    {
     "ename": "NameError",
     "evalue": "name 'plt' is not defined",
     "output_type": "error",
     "traceback": [
      "\u001b[0;31m---------------------------------------------------------------------------\u001b[0m",
      "\u001b[0;31mNameError\u001b[0m                                 Traceback (most recent call last)",
      "\u001b[0;32m<ipython-input-6-a418827d7d4b>\u001b[0m in \u001b[0;36m<module>\u001b[0;34m()\u001b[0m\n\u001b[0;32m----> 1\u001b[0;31m \u001b[0mfig\u001b[0m\u001b[0;34m,\u001b[0m\u001b[0maxes\u001b[0m \u001b[0;34m=\u001b[0m \u001b[0mplt\u001b[0m\u001b[0;34m.\u001b[0m\u001b[0msubplots\u001b[0m\u001b[0;34m(\u001b[0m\u001b[0;36m2\u001b[0m\u001b[0;34m,\u001b[0m\u001b[0;36m2\u001b[0m\u001b[0;34m,\u001b[0m\u001b[0mfigsize\u001b[0m\u001b[0;34m=\u001b[0m\u001b[0;34m(\u001b[0m\u001b[0;36m10\u001b[0m\u001b[0;34m,\u001b[0m\u001b[0;36m10\u001b[0m\u001b[0;34m)\u001b[0m\u001b[0;34m)\u001b[0m\u001b[0;34m\u001b[0m\u001b[0m\n\u001b[0m\u001b[1;32m      2\u001b[0m \u001b[0maxes\u001b[0m\u001b[0;34m=\u001b[0m\u001b[0maxes\u001b[0m\u001b[0;34m.\u001b[0m\u001b[0mravel\u001b[0m\u001b[0;34m(\u001b[0m\u001b[0;34m)\u001b[0m  \u001b[0;31m#axes comes back as a 2x2 array, flatten it\u001b[0m\u001b[0;34m\u001b[0m\u001b[0m\n\u001b[1;32m      3\u001b[0m \u001b[0mpress\u001b[0m\u001b[0;34m=\u001b[0m\u001b[0mnp\u001b[0m\u001b[0;34m.\u001b[0m\u001b[0mlinspace\u001b[0m\u001b[0;34m(\u001b[0m\u001b[0;36m200\u001b[0m\u001b[0;34m,\u001b[0m\u001b[0;36m1000\u001b[0m\u001b[0;34m,\u001b[0m\u001b[0;36m30\u001b[0m\u001b[0;34m)\u001b[0m\u001b[0;34m\u001b[0m\u001b[0m\n\u001b[1;32m      4\u001b[0m \u001b[0mthe_temp\u001b[0m\u001b[0;34m=\u001b[0m\u001b[0;36m5.\u001b[0m\u001b[0;34m\u001b[0m\u001b[0m\n\u001b[1;32m      5\u001b[0m \u001b[0mlinelist\u001b[0m\u001b[0;34m=\u001b[0m\u001b[0;34m[\u001b[0m\u001b[0;34m]\u001b[0m\u001b[0;34m\u001b[0m\u001b[0m\n",
      "\u001b[0;31mNameError\u001b[0m: name 'plt' is not defined"
     ]
    }
   ],
   "source": [
    "fig,axes = plt.subplots(2,2,figsize=(10,10))\n",
    "axes=axes.ravel()  #axes comes back as a 2x2 array, flatten it\n",
    "press=np.linspace(200,1000,30)\n",
    "the_temp=5.\n",
    "linelist=[]\n",
    "skew_vals=[10,20,30, 40]\n",
    "for ax,skew in zip(axes,skew_vals):\n",
    "    xcoord=convertTempToSkew(the_temp,press,skew)\n",
    "    ax.plot(xcoord,press,label=skew)\n",
    "    ax.invert_yaxis()\n",
    "    ax.set_yscale('log')\n",
    "    locs = np.array(range(100, 1100, 100))\n",
    "    labels = locs\n",
    "    ax.set_yticks(locs)\n",
    "    ax.set_yticklabels(labels) # Conventionally labels semilog graph.\n",
    "    ax.set_ybound((400, 1000))\n",
    "    plt.setp(ax.get_xticklabels(), weight='bold')\n",
    "    plt.setp(ax.get_yticklabels(), weight='bold')\n",
    "    ax.yaxis.grid(True)\n",
    "    out=ax.legend()\n",
    "    TempTickLabels = range(-15, 40, 5)\n",
    "    TempTickCoords = TempTickLabels\n",
    "    skewTickCoords = convertTempToSkew(TempTickCoords, 1.e3, skew)\n",
    "    ax.set_xticks(skewTickCoords)\n",
    "    out=ax.set_xticklabels(TempTickLabels)\n",
    "    skewLimits = convertTempToSkew([5, 35], 1.e3, skew)\n",
    "    out=ax.set(xlim=skewLimits)"
   ]
  },
  {
   "cell_type": "code",
   "execution_count": null,
   "metadata": {
    "collapsed": true
   },
   "outputs": [],
   "source": []
  },
  {
   "cell_type": "code",
   "execution_count": null,
   "metadata": {
    "collapsed": false
   },
   "outputs": [],
   "source": [
    "from a405skewT.makeSkew import makeSkewDry\n",
    "import a405skewT.makeSkew\n",
    "from importlib import reload\n",
    "reload(a405skewT.makeSkew)"
   ]
  },
  {
   "cell_type": "code",
   "execution_count": null,
   "metadata": {
    "collapsed": false
   },
   "outputs": [],
   "source": [
    "#%config InlineBackend.close_figures=False\n",
    "fig,ax =plt.subplots(1,1,figsize=(8,8))\n",
    "ax,skew = makeSkewDry(ax)"
   ]
  },
  {
   "cell_type": "code",
   "execution_count": null,
   "metadata": {
    "collapsed": false
   },
   "outputs": [],
   "source": [
    "ax.set(title='new title')\n",
    "display(fig)"
   ]
  },
  {
   "cell_type": "code",
   "execution_count": null,
   "metadata": {
    "collapsed": false
   },
   "outputs": [],
   "source": [
    "filename='littlerock.h5';\n",
    "print('reading file: %s\\n' %filename)\n",
    "\n",
    "attributes={}\n",
    "with h5py.File(filename,'r') as f:\n",
    "    keys=f.attrs.keys()\n",
    "    for key in keys:\n",
    "        try:\n",
    "            attributes[key]=f.attrs[key]\n",
    "        except IOError:\n",
    "            print('empty key: ',key)\n",
    "print('\\nread in these attributes: \\n\\n',pformat(attributes))\n",
    "\n",
    "separator= '\\n' + '+'*30 + '\\n'\n",
    "sounding_dict={}\n",
    "with pd.HDFStore(filename,'r') as store:\n",
    "    times=store.keys()\n",
    "    for the_time in times:\n",
    "        sounding_dict[the_time]=store[the_time]\n",
    "sounding=sounding_dict[times[3]]\n",
    "print('{0:}sounding times:{1:}{0:} '.format(separator,times))\n",
    "print('{0:}columns: {1:}{0:} '.format(separator,pformat(sounding.columns)))\n",
    "title_string=attributes['header']\n",
    "index=title_string.find(' Observations at')\n",
    "location=title_string[:index]\n",
    "title='{} at {}'.format(location,times[0][2:])\n",
    "print('title: :',title)\n",
    "units=attributes['units'].split(';')\n",
    "units_dict={}\n",
    "for count,var in enumerate(sounding.columns):\n",
    "    units_dict[var]=units[count]\n",
    "print('variables with units: \\n',pformat(units_dict))"
   ]
  },
  {
   "cell_type": "code",
   "execution_count": null,
   "metadata": {
    "collapsed": false,
    "scrolled": true
   },
   "outputs": [],
   "source": [
    "triplets=zip(sounding['temp'],sounding['dwpt'],sounding['pres'])\n",
    "xcoord_T=[]\n",
    "xcoord_Td=[]\n",
    "for a_temp,a_dew,a_pres in triplets:\n",
    "    xcoord_T.append(convertTempToSkew(a_temp,a_pres,skew))\n",
    "    xcoord_Td.append(convertTempToSkew(a_dew,a_pres,skew))\n",
    "ax.plot(xcoord_T,sounding['pres'],color='k',label='temp')\n",
    "ax.plot(xcoord_Td,sounding['pres'],color='g',label='dew')\n",
    "fig.canvas.draw()\n",
    "\n",
    "#\n",
    "#  make the last two lines added to the plot (temp and dewpoint)\n",
    "#  thicker\n",
    "#\n",
    "[line.set(linewidth=3) for line in ax.lines[-2:]]\n",
    "ax.set(title=title)\n",
    "display(fig)"
   ]
  },
  {
   "cell_type": "code",
   "execution_count": null,
   "metadata": {
    "collapsed": false
   },
   "outputs": [],
   "source": [
    "ax.set(ylim=[1000,700])\n",
    "display(fig)"
   ]
  },
  {
   "cell_type": "markdown",
   "metadata": {
    "collapsed": true
   },
   "source": [
    "### For Wednesday 9am\n",
    "\n",
    "Check in a notebook that puts your sounding on the tephigram and draws a line of constant saturation mixing ratio \n",
    "$r_s$ = 10 g/kg between 1000 and  400 hPa.  \n",
    "\n",
    "Hint -- you want to rootfind the temperature that satisfies $r_s = \\frac{e_s(T)}{p - e_s(T)} = 0.01\\ g/kg$\n",
    "for a range of pressures then convert the temperatures to skew coordinates."
   ]
  },
  {
   "cell_type": "code",
   "execution_count": null,
   "metadata": {
    "collapsed": true
   },
   "outputs": [],
   "source": []
  },
  {
   "cell_type": "code",
   "execution_count": null,
   "metadata": {
    "collapsed": true
   },
   "outputs": [],
   "source": []
  }
 ],
 "metadata": {
  "kernelspec": {
   "display_name": "Python 3",
   "language": "python",
   "name": "python3"
  },
  "language_info": {
   "codemirror_mode": {
    "name": "ipython",
    "version": 3
   },
   "file_extension": ".py",
   "mimetype": "text/x-python",
   "name": "python",
   "nbconvert_exporter": "python",
   "pygments_lexer": "ipython3",
   "version": "3.5.1"
  }
 },
 "nbformat": 4,
 "nbformat_minor": 0
}
