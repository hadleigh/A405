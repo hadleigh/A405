{
 "cells": [
  {
   "cell_type": "markdown",
   "metadata": {},
   "source": [
    "### Retrieve soundings directly using python\n",
    "\n",
    "This notebook uses the [wyominglib](https://github.com/phaustin/A405/blob/master/soundings/wyominglib.py) module, which parses  sounding data from [U. Wyoming](http://weather.uwyo.edu/upperair/sounding.html)\n",
    "with [BeautifulSoup](http://www.crummy.com/software/BeautifulSoup/)"
   ]
  },
  {
   "cell_type": "code",
   "execution_count": 51,
   "metadata": {
    "collapsed": false
   },
   "outputs": [
    {
     "name": "stdout",
     "output_type": "stream",
     "text": [
      "Help on function make_frames in module soundings.wyominglib:\n",
      "\n",
      "make_frames(html_doc)\n",
      "    turn an html page retrieved from the wyoming site into a dataframe\n",
      "    \n",
      "    Parameters\n",
      "    ----------\n",
      "    \n",
      "    html_doc : string\n",
      "               web page from wyoming upperair sounding site\n",
      "               http://weather.uwyo.edu/cgi-bin/sounding retrieved by\n",
      "               the requests module\n",
      "    \n",
      "    Returns\n",
      "    -------\n",
      "    \n",
      "    attr_dict : dict\n",
      "               attr_dict dictionary with ['header', 'site_id','longitude','latitude', 'elevation', 'units']\n",
      "              \n",
      "    sound_dict : dict  \n",
      "                 sounding dictionary with sounding times as keys and sounding as dataframes\n",
      "\n",
      "None\n"
     ]
    }
   ],
   "source": [
    "from importlib import reload\n",
    "import soundings.wyominglib\n",
    "reload(soundings.wyominglib)\n",
    "from soundings.wyominglib import make_frames\n",
    "import pandas as pd\n",
    "from matplotlib import pyplot as plt\n",
    "import requests\n",
    "import datetime\n",
    "from datetime import timezone as tz\n",
    "import tzlocal   #pip install tzlocal\n",
    "import h5py\n",
    "from pprint import pformat\n",
    "print(help(make_frames))"
   ]
  },
  {
   "cell_type": "markdown",
   "metadata": {},
   "source": [
    "### 1.  Form the url using a template with variable substitution from a dictionary"
   ]
  },
  {
   "cell_type": "code",
   "execution_count": 52,
   "metadata": {
    "collapsed": true
   },
   "outputs": [],
   "source": [
    "#this template holds the text that will always be the same,\n",
    "# plus variables that will be substituted in based on dictionary values\n",
    "\n",
    "url_template=(\"http://weather.uwyo.edu/cgi-bin/sounding?\"\n",
    "              \"region={region:s}\"\n",
    "              \"&TYPE=TEXT%3ALIST\"\n",
    "              \"&YEAR={year:s}\"\n",
    "              \"&MONTH={month:s}\"\n",
    "              \"&FROM={start:s}\"\n",
    "              \"&TO={stop:s}\"\n",
    "              \"&STNM={station:s}\")"
   ]
  },
  {
   "cell_type": "markdown",
   "metadata": {},
   "source": [
    "#### Uncomment one of these dictionaries to get a set of soundings.  Dictionary values are inserted into the url_tempate to form the query url.  See wikipedia on [query strings](https://en.wikipedia.org/wiki/Query_string)"
   ]
  },
  {
   "cell_type": "code",
   "execution_count": 53,
   "metadata": {
    "collapsed": false
   },
   "outputs": [
    {
     "name": "stdout",
     "output_type": "stream",
     "text": [
      "here is the url we call to get the soundings: \n",
      " http://weather.uwyo.edu/cgi-bin/sounding?region=samer&TYPE=TEXT%3ALIST&YEAR=2015&MONTH=7&FROM=0100&TO=0300&STNM=78486\n"
     ]
    }
   ],
   "source": [
    "values=dict(region='samer',year='2015',month='7',start='0100',stop='0300',station='78486')\n",
    "#values=dict(region='nz',year='2013',month='2',start='0100',stop='2800',station='93417')\n",
    "#values=dict(region='naconf',year='2013',month='2',start='0100',stop='2800',station='71802')\n",
    "#values=dict(region='ant',year='2013',month='07',start='0100',stop='2800',station='89009')\n",
    "url=url_template.format_map(values)\n",
    "print('here is the url we call to get the soundings: \\n',url)"
   ]
  },
  {
   "cell_type": "markdown",
   "metadata": {},
   "source": [
    "### 2. Use the requests module to grab the web page"
   ]
  },
  {
   "cell_type": "code",
   "execution_count": 54,
   "metadata": {
    "collapsed": false
   },
   "outputs": [
    {
     "name": "stdout",
     "output_type": "stream",
     "text": [
      "read 12252 bytes\n"
     ]
    }
   ],
   "source": [
    "#\n",
    "# Make do_web False to reuse a page for debugging\n",
    "#\n",
    "do_web = True\n",
    "backup_file='backup.txt'\n",
    "if do_web:\n",
    "    #\n",
    "    # grab the web page that is loaded with this url\n",
    "    #\n",
    "    html_doc = requests.get(url).text\n",
    "    print('read {} bytes'.format(len(html_doc)))\n",
    "    with open(backup_file,'w') as f:\n",
    "        f.write(html_doc)\n",
    "    if len(html_doc) < 2000:\n",
    "        print('debug: short html_doc, something went wrong:',html_doc)\n",
    "        sys.exit(1)\n",
    "else:\n",
    "    with open(backup_file,'r') as f:\n",
    "        html_doc=f.read()"
   ]
  },
  {
   "cell_type": "markdown",
   "metadata": {
    "collapsed": false
   },
   "source": [
    "### 3.  Parse the sounding page into two dictionaries\n",
    "\n",
    "attr_dict holds attributes ['header', 'site_id','longitude','latitude', 'elevation', 'units']\n",
    "\n",
    "sounding_dict holds the soundings indexed by datetime"
   ]
  },
  {
   "cell_type": "code",
   "execution_count": 55,
   "metadata": {
    "collapsed": false
   },
   "outputs": [
    {
     "name": "stdout",
     "output_type": "stream",
     "text": [
      "header is:  78486 MDSD Santo Domingo Observations at 12Z 01 Jul 2015\n"
     ]
    }
   ],
   "source": [
    "attr_dict,sounding_dict = make_frames(html_doc)"
   ]
  },
  {
   "cell_type": "markdown",
   "metadata": {},
   "source": [
    "### Create a timestamp and convert to UTC"
   ]
  },
  {
   "cell_type": "code",
   "execution_count": 56,
   "metadata": {
    "collapsed": false
   },
   "outputs": [
    {
     "name": "stdout",
     "output_type": "stream",
     "text": [
      "2016-02-12 16:26:13 UTC\n"
     ]
    }
   ],
   "source": [
    "mytz=tzlocal.get_localzone()\n",
    "now=datetime.datetime.now(tz=mytz)\n",
    "now=now.astimezone(tz.utc)\n",
    "timestamp=now.strftime('%Y-%m-%d %H:%M:%S UTC')\n",
    "print(timestamp)"
   ]
  },
  {
   "cell_type": "markdown",
   "metadata": {},
   "source": [
    "### Add history, query and timestamp attributes to the dictionary, and order the keys"
   ]
  },
  {
   "cell_type": "code",
   "execution_count": 57,
   "metadata": {
    "collapsed": true
   },
   "outputs": [],
   "source": [
    "attr_dict['timestamp']=timestamp\n",
    "attr_dict['history']=\"written by test_requests.py\"\n",
    "attr_dict['query']= url\n",
    "#\n",
    "# write the keys out in this order\n",
    "#\n",
    "key_list=['header', 'site_id','longitude','latitude', 'elevation', 'units','history','query','timestamp']"
   ]
  },
  {
   "cell_type": "markdown",
   "metadata": {},
   "source": [
    "### Use HDFStore to write the soundings out keyed by date"
   ]
  },
  {
   "cell_type": "code",
   "execution_count": 58,
   "metadata": {
    "collapsed": false
   },
   "outputs": [
    {
     "name": "stdout",
     "output_type": "stream",
     "text": [
      "odict_keys([datetime.datetime(2015, 7, 1, 12, 0, tzinfo=datetime.timezone.utc)])\n"
     ]
    }
   ],
   "source": [
    "print(sounding_dict.keys())\n",
    "name = 'out.h5'    \n",
    "with pd.HDFStore(name,'w') as store:\n",
    "    for key,value in sounding_dict.items():\n",
    "        #need to insert Y in front of the year because\n",
    "        #h5py groups need to be legal python variables\n",
    "        #(remove Y to see error message)\n",
    "        thetime=key.strftime(\"Y%Y_%b_%d_%HZ\")  \n",
    "        store.put(thetime,value,format='table')"
   ]
  },
  {
   "cell_type": "markdown",
   "metadata": {},
   "source": [
    "### Use h5py to store the attributes as metadata"
   ]
  },
  {
   "cell_type": "code",
   "execution_count": 59,
   "metadata": {
    "collapsed": false
   },
   "outputs": [
    {
     "name": "stdout",
     "output_type": "stream",
     "text": [
      "writing key, value:  header 78486 MDSD Santo Domingo Observations at 12Z 01 Jul 2015\n",
      "writing key, value:  site_id 78486\n",
      "writing key, value:  longitude -69.88\n",
      "writing key, value:  latitude 18.43\n",
      "writing key, value:  elevation 1.0\n",
      "writing key, value:  units hPa;m;C;C;%;g/kg;deg;knot;K;K;K\n",
      "writing key, value:  history written by test_requests.py\n",
      "writing key, value:  query http://weather.uwyo.edu/cgi-bin/sounding?region=samer&TYPE=TEXT%3ALIST&YEAR=2015&MONTH=7&FROM=0100&TO=0300&STNM=78486\n",
      "writing key, value:  timestamp 2016-02-12 16:26:13 UTC\n"
     ]
    }
   ],
   "source": [
    "with h5py.File(name,'a') as f:\n",
    "        for key in key_list:\n",
    "            print('writing key, value: ',key,attr_dict[key])\n",
    "            f.attrs[key]=attr_dict[key]\n",
    "        f.close()"
   ]
  },
  {
   "cell_type": "markdown",
   "metadata": {},
   "source": [
    "### Show how to read the data and metadata back in\n",
    "\n",
    "Need to trap IOError because there are 4 empty variables in the hdf file\n",
    "that can't be read.  See [this discussion](https://github.com/h5py/h5py/issues/279)\n",
    "about how to fix this in future h5py releases."
   ]
  },
  {
   "cell_type": "code",
   "execution_count": 60,
   "metadata": {
    "collapsed": false,
    "scrolled": true
   },
   "outputs": [
    {
     "name": "stdout",
     "output_type": "stream",
     "text": [
      "empty key:  TITLE\n",
      "empty key:  CLASS\n",
      "empty key:  VERSION\n",
      "empty key:  PYTABLES_FORMAT_VERSION\n",
      "\n",
      "read in these attributes: \n",
      "\n",
      " {'elevation': 1.0,\n",
      " 'header': '78486 MDSD Santo Domingo Observations at 12Z 01 Jul 2015',\n",
      " 'history': 'written by test_requests.py',\n",
      " 'latitude': 18.43,\n",
      " 'longitude': -69.879999999999995,\n",
      " 'query': 'http://weather.uwyo.edu/cgi-bin/sounding?region=samer&TYPE=TEXT%3ALIST&YEAR=2015&MONTH=7&FROM=0100&TO=0300&STNM=78486',\n",
      " 'site_id': '78486',\n",
      " 'timestamp': '2016-02-12 16:26:13 UTC',\n",
      " 'units': 'hPa;m;C;C;%;g/kg;deg;knot;K;K;K'}\n"
     ]
    }
   ],
   "source": [
    "attributes={}\n",
    "with h5py.File(name,'r') as f:\n",
    "    keys=f.attrs.keys()\n",
    "    for key in keys:\n",
    "        try:\n",
    "            attributes[key]=f.attrs[key]\n",
    "        except IOError:\n",
    "            print('empty key: ',key)\n",
    "print('\\nread in these attributes: \\n\\n',pformat(attributes))"
   ]
  },
  {
   "cell_type": "code",
   "execution_count": 61,
   "metadata": {
    "collapsed": false
   },
   "outputs": [
    {
     "name": "stdout",
     "output_type": "stream",
     "text": [
      "\n",
      "++++++++++++++++++++++++++++++\n",
      "sounding times:['/Y2015_Jul_01_12Z']\n",
      "++++++++++++++++++++++++++++++\n",
      " \n",
      "\n",
      "++++++++++++++++++++++++++++++\n",
      "columns: Index(['pres', 'hght', 'temp', 'dwpt', 'relh', 'mixr', 'drct', 'sknt', 'thta',\n",
      "       'thte', 'thtv'],\n",
      "      dtype='object')\n",
      "++++++++++++++++++++++++++++++\n",
      " \n",
      "title: : 78486 MDSD Santo Domingo at 2015_Jul_01_12Z\n",
      "variables with units: \n",
      " {'drct': 'deg',\n",
      " 'dwpt': 'C',\n",
      " 'hght': 'm',\n",
      " 'mixr': 'g/kg',\n",
      " 'pres': 'hPa',\n",
      " 'relh': '%',\n",
      " 'sknt': 'knot',\n",
      " 'temp': 'C',\n",
      " 'thta': 'K',\n",
      " 'thte': 'K',\n",
      " 'thtv': 'K'}\n"
     ]
    }
   ],
   "source": [
    "name = 'out.h5'    \n",
    "separator= '\\n' + '+'*30 + '\\n'\n",
    "sounding_dict={}\n",
    "with pd.HDFStore(name,'r') as store:\n",
    "    times=store.keys()\n",
    "    for the_time in times:\n",
    "        sounding_dict[the_time]=store[the_time]\n",
    "sounding=sounding_dict[times[0]]\n",
    "print('{0:}sounding times:{1:}{0:} '.format(separator,times))\n",
    "print('{0:}columns: {1:}{0:} '.format(separator,pformat(sounding.columns)))\n",
    "title_string=attributes['header']\n",
    "index=title_string.find(' Observations at')\n",
    "location=title_string[:index]\n",
    "title='{} at {}'.format(location,times[0][2:])\n",
    "print('title: :',title)\n",
    "units=attributes['units'].split(';')\n",
    "units_dict={}\n",
    "for count,var in enumerate(sounding.columns):\n",
    "    units_dict[var]=units[count]\n",
    "print('variables with units: \\n',pformat(units_dict))"
   ]
  },
  {
   "cell_type": "code",
   "execution_count": 62,
   "metadata": {
    "collapsed": false,
    "scrolled": true
   },
   "outputs": [
    {
     "data": {
      "image/png": "[encoded data removed]",
      "text/plain": [
       "<matplotlib.figure.Figure at 0x10dd319e8>"
      ]
     },
     "metadata": {},
     "output_type": "display_data"
    }
   ],
   "source": [
    "%matplotlib inline\n",
    "key=times[0]  #pick the third sounding\n",
    "the_sounding=sounding_dict[key]\n",
    "m2km=1.e-3  #convert meters to km\n",
    "plt.style.use('ggplot')\n",
    "fig,ax=plt.subplots(1,1,figsize=(8,10))\n",
    "ax.plot(the_sounding['temp'],the_sounding['hght']*m2km,label='temp')\n",
    "ax.plot(the_sounding['dwpt'],the_sounding['hght']*m2km,label='dewpoint')\n",
    "ax.legend()\n",
    "out=ax.set(xlabel=\"temperature (deg C)\",ylabel=\"height (km)\",\n",
    "      title =title)\n",
    "out=ax.set(ylim=[0,2],xlim=[-30,30])"
   ]
  },
  {
   "cell_type": "code",
   "execution_count": 63,
   "metadata": {
    "collapsed": false
   },
   "outputs": [
    {
     "name": "stdout",
     "output_type": "stream",
     "text": [
      "Dew point temperature between /Y2015_Jul_01_12Z to /Y2015_Jul_01_12Z\n"
     ]
    },
    {
     "data": {
      "image/png": "[encoded data removed]",
      "text/plain": [
       "<matplotlib.figure.Figure at 0x10e6119e8>"
      ]
     },
     "metadata": {},
     "output_type": "display_data"
    }
   ],
   "source": [
    "fig,ax=plt.subplots(1,1,figsize=(8,10))\n",
    "for the_time in times:\n",
    "    the_sound=sounding_dict[the_time]\n",
    "    ax.plot(the_sound['dwpt'],the_sound['hght']*m2km)\n",
    "out=ax.set(xlabel=\"dew point temperature (deg C)\",ylabel=\"height (km)\",\n",
    "      title =location)\n",
    "out=ax.set(ylim=[0,2],xlim=[-30,30])\n",
    "print('Dew point temperature between {} to {}'.format(times[0],times[-1]))"
   ]
  },
  {
   "cell_type": "code",
   "execution_count": null,
   "metadata": {
    "collapsed": true
   },
   "outputs": [],
   "source": []
  }
 ],
 "metadata": {
  "kernelspec": {
   "display_name": "Python 3",
   "language": "python",
   "name": "python3"
  },
  "language_info": {
   "codemirror_mode": {
    "name": "ipython",
    "version": 3
   },
   "file_extension": ".py",
   "mimetype": "text/x-python",
   "name": "python",
   "nbconvert_exporter": "python",
   "pygments_lexer": "ipython3",
   "version": "3.5.1"
  }
 },
 "nbformat": 4,
 "nbformat_minor": 0
}
