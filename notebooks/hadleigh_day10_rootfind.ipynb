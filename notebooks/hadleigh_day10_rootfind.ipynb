{
 "cells": [
  {
   "cell_type": "markdown",
   "metadata": {},
   "source": [
    "### ATSC 405  - day 10\n",
    "\n",
    "### Entropy Rootfinder\n",
    "\n",
    "#### Hadleigh Thompson, 21 Jan 2016\n",
    "\n",
    "Using rootfinder to solve exactly for saturation vapour pressure, and comparing with Thompkins 2.13, 2.15 "
   ]
  },
  {
   "cell_type": "markdown",
   "metadata": {},
   "source": [
    "From P Austin's notes' we will use:\n",
    "\n",
    "$$ l_v = (\\phi_{v}^{*} - \\phi_l)T $$\n",
    "\n",
    "We can manipulate this into a rootfinder form to get the entropy for a range of temperatures.\n",
    "\n",
    "$$ (\\phi_{v}^{*} - \\phi_l)T - l_v = 0 $$\n",
    "\n",
    "That is, for a given Temp the root of the equation will be the correct entropy.\n",
    "\n",
    "To get the entropy though we need to find the right stauration vapour pressure in the equation:\n",
    "\n",
    "$$ \\phi_{v}^{*} = c_{vp} log \\frac{T}{T_P} - R_v log \\frac{e_{sat}}{e_{s0}} + \\phi_{0} $$"
   ]
  },
  {
   "cell_type": "code",
   "execution_count": 2,
   "metadata": {
    "collapsed": false
   },
   "outputs": [
    {
     "ename": "SyntaxError",
     "evalue": "unexpected EOF while parsing (<ipython-input-2-e0a8f9e82343>, line 4)",
     "output_type": "error",
     "traceback": [
      "\u001b[0;36m  File \u001b[0;32m\"<ipython-input-2-e0a8f9e82343>\"\u001b[0;36m, line \u001b[0;32m4\u001b[0m\n\u001b[0;31m    def press_from_temp():\u001b[0m\n\u001b[0m                          ^\u001b[0m\n\u001b[0;31mSyntaxError\u001b[0m\u001b[0;31m:\u001b[0m unexpected EOF while parsing\n"
     ]
    }
   ],
   "source": [
    "import numpy as np\n",
    "from scipy import optimize as op\n",
    "\n",
    "l_v = 2.501e+6    # enthalpy of evaporation\n",
    "temp_p = 273.16   # triple point temperature\n",
    "e_s0 = 611    # triple point saturation vapour pressure\n",
    "entropy_o = l_v / temp_p    # entropy of vapourization at triple point\n",
    "c_vp =1870    # \n",
    "c_l = 4187    #\n",
    "R_v = \n",
    "\n",
    "def eqn_8(Temp, entropy_v):\n",
    "    \n",
    "def eqn_10(Temp, e_sat):\n",
    "    return c_vp * np.log(Temp/temp_p) - R_v * np.log(e_sat/e_s0) + entropy_o\n",
    "\n",
    "def eqn_11(Temp):\n",
    "    return c_l * np.log(Temp/temp_p)\n",
    "\n",
    "def eqn_13(Temp):\n",
    "    return (c_vp - c_l)*(Temp - temp_p)\n",
    "\n",
    "temp_list = np.linspace(273, 293, 10)\n",
    "\n",
    "import a405thermo.rootfinder as rf\n",
    "from importlib import reload\n",
    "reload(rf)\n",
    "\n",
    "def theta_zero(Tguess,theta,press):\n",
    "    \"\"\"Function we want to find the root of\n",
    "       input: Tguess (K), target theta (K), press (Pa)\n",
    "       output: difference between guess and target -- should be zero when x is a root\n",
    "    \"\"\"\n",
    "    p0=1.e5  #Pa\n",
    "    Rd=287. #J/kg/K\n",
    "    cp=1004.  #J/kg/K     \n",
    "    theta_guess=Tguess*(p0/press)**(Rd/cp)\n",
    "    return theta - theta_guess\n",
    "\n",
    "import a405thermo.rootfinder as rf\n",
    "\n",
    "def temp_from_theta(theta,press):\n",
    "\n",
    "    \"\"\"\n",
    "\n",
    "       input: theta (K), press (Pa)\n",
    "\n",
    "       output: temp (K) found by rootfinder\n",
    "\n",
    "    \"\"\"     \n",
    "\n",
    "    #\n",
    "\n",
    "    #  use theta as guess for bracket and pass theta,press to theta_zero\n",
    "\n",
    "    #\n",
    "\n",
    "    brackets=rf.find_interval(theta_zero,theta,theta,press)\n",
    "\n",
    "    the_temp = rf.fzero(theta_zero,brackets,theta,press)\n",
    "\n",
    "    return the_temp\n",
    "\n",
    "​\n",
    "\n",
    "for press in [1.e5,7.e4,4.e4]:\n",
    "\n",
    "    print('Temp {:5.2f} (K) at pressure of {:5.2f} kPa'.format(temp_from_theta(280.,press),press*1e-2))"
   ]
  },
  {
   "cell_type": "code",
   "execution_count": null,
   "metadata": {
    "collapsed": true
   },
   "outputs": [],
   "source": []
  }
 ],
 "metadata": {
  "kernelspec": {
   "display_name": "Python 3",
   "language": "python",
   "name": "python3"
  },
  "language_info": {
   "codemirror_mode": {
    "name": "ipython",
    "version": 3
   },
   "file_extension": ".py",
   "mimetype": "text/x-python",
   "name": "python",
   "nbconvert_exporter": "python",
   "pygments_lexer": "ipython3",
   "version": "3.5.1"
  }
 },
 "nbformat": 4,
 "nbformat_minor": 0
}
