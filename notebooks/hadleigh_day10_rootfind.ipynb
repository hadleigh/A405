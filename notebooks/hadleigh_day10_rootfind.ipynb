{
 "cells": [
  {
   "cell_type": "markdown",
   "metadata": {},
   "source": [
    "### ATSC 405  - day 10\n",
    "\n",
    "### Entropy Rootfinder\n",
    "\n",
    "#### Hadleigh Thompson, 21 Jan 2016\n",
    "\n",
    "Using rootfinder to solve exactly for saturation vapour pressure, and comparing with Thompkins 2.13, 2.15 "
   ]
  },
  {
   "cell_type": "markdown",
   "metadata": {},
   "source": [
    "From P Austin's notes' we will use:\n",
    "\n",
    "$$ l_v = (\\phi_{v}^{*} - \\phi_l)T $$\n",
    "\n",
    "We can manipulate this into a rootfinder form to get the entropy for a range of temperatures.\n",
    "\n",
    "$$ (\\phi_{v}^{*} - \\phi_l)T - l_v = 0 $$\n",
    "\n",
    "That is, for a given Temp the root of the equation will be the correct entropy.\n",
    "\n",
    "To get the entropy though we need to find the right stauration vapour pressure in the equation:\n",
    "\n",
    "$$ \\phi_{v}^{*} = c_{vp} log \\frac{T}{T_P} - R_v log \\frac{e_{sat}}{e_{s0}} + \\phi_{0} $$"
   ]
  },
  {
   "cell_type": "code",
   "execution_count": 16,
   "metadata": {
    "collapsed": false
   },
   "outputs": [],
   "source": [
    "import numpy as np\n",
    "from scipy import optimize as op\n",
    "import matplotlib.pyplot as plt\n",
    "% matplotlib inline\n",
    "\n",
    "l_o = 2.501e+6    # enthalpy of evaporation\n",
    "temp_p = 273.16   # triple point temperature\n",
    "e_s0 = 611.    # triple point saturation vapour pressure\n",
    "entropy_o = l_v / temp_p    # entropy of vapourization at triple point\n",
    "c_vp =1870    # \n",
    "c_l = 4187    #\n",
    "R_v = 461.5    # gas constant for  water vapour\n",
    "\n",
    "# function we want to find the root of, should be zero when e_sat is a root\n",
    "def eqn_8(e_sat, Temp):\n",
    "    return ((eqn_10(Temp, e_sat) - eqn_11(Temp)) * Temp) - eqn_13(Temp)\n",
    "\n",
    "# get entropy_v\n",
    "def eqn_10(e_sat, Temp):\n",
    "    return c_vp * np.log(Temp/temp_p) - R_v * np.log(e_sat/e_s0) + eqn_11(Temp)\n",
    "\n",
    "# get entropy_o\n",
    "def eqn_11(Temp):\n",
    "    return c_l * np.log(Temp/temp_p)\n",
    "\n",
    "# get temperature dependent l_v\n",
    "def eqn_13(Temp):\n",
    "    return (c_vp - c_l)*(Temp - temp_p) + l_o\n"
   ]
  },
  {
   "cell_type": "code",
   "execution_count": 17,
   "metadata": {
    "collapsed": false
   },
   "outputs": [
    {
     "name": "stderr",
     "output_type": "stream",
     "text": [
      "/Users/hadleighs/anaconda/lib/python3.5/site-packages/ipykernel/__main__.py:20: RuntimeWarning: divide by zero encountered in log\n",
      "/Users/hadleighs/anaconda/lib/python3.5/site-packages/ipykernel/__main__.py:24: RuntimeWarning: divide by zero encountered in log\n"
     ]
    },
    {
     "data": {
      "image/png": "[encoded data removed]",
      "text/plain": [
       "<matplotlib.figure.Figure at 0x10c178e10>"
      ]
     },
     "metadata": {},
     "output_type": "display_data"
    }
   ],
   "source": [
    "\n",
    "# get entropy given temp, e_sat; using eqn_8, 10, 11, 13\n",
    "\n",
    "temp_list = np.linspace(273, 293, 10)\n",
    "\n",
    "def e_sat_finder(Temp):\n",
    "    e_sat = op.zeros.brentq(eqn_8,0.,10000, args=(Temp))\n",
    "    return e_sat\n",
    "\n",
    "e_sat_list = [e_sat_finder(Temp) for Temp in temp_list]\n",
    "\n",
    "plt.plot(temp_list, e_sat_list)\n",
    "plt.show()"
   ]
  },
  {
   "cell_type": "code",
   "execution_count": null,
   "metadata": {
    "collapsed": true
   },
   "outputs": [],
   "source": []
  }
 ],
 "metadata": {
  "kernelspec": {
   "display_name": "Python 3",
   "language": "python",
   "name": "python3"
  },
  "language_info": {
   "codemirror_mode": {
    "name": "ipython",
    "version": 3
   },
   "file_extension": ".py",
   "mimetype": "text/x-python",
   "name": "python",
   "nbconvert_exporter": "python",
   "pygments_lexer": "ipython3",
   "version": "3.5.1"
  }
 },
 "nbformat": 4,
 "nbformat_minor": 0
}
