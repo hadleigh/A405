{
 "cells": [
  {
   "cell_type": "markdown",
   "metadata": {},
   "source": [
    "### ATSC 405  - day 10\n",
    "\n",
    "### Saturation Vapour Pressure Rootfinder\n",
    "\n",
    "#### Hadleigh Thompson, 21 Jan 2016\n",
    "\n",
    "Using rootfinder to solcve exact for saturation vapour pressures, and comparing with Thompkins 2.13, 2.15 "
   ]
  },
  {
   "cell_type": "markdown",
   "metadata": {},
   "source": [
    "From P Austin's notes' we will use:\n",
    "\n",
    "$$ l_v = (\\phi_{v}^{*} - \\phi_l)T $$\n",
    "\n",
    "We can manipulate this into a rootfinder form to get the saturation vapour pressure for a range of temperatures.\n",
    "\n",
    "$$ (\\phi_{v}^{*} - \\phi_l)T - l_v = 0 $$\n",
    "\n",
    "That is, for a given temp and pressure we can get the saturation vapour pressure"
   ]
  },
  {
   "cell_type": "code",
   "execution_count": 2,
   "metadata": {
    "collapsed": false
   },
   "outputs": [
    {
     "ename": "SyntaxError",
     "evalue": "unexpected EOF while parsing (<ipython-input-2-e0a8f9e82343>, line 4)",
     "output_type": "error",
     "traceback": [
      "\u001b[0;36m  File \u001b[0;32m\"<ipython-input-2-e0a8f9e82343>\"\u001b[0;36m, line \u001b[0;32m4\u001b[0m\n\u001b[0;31m    def press_from_temp():\u001b[0m\n\u001b[0m                          ^\u001b[0m\n\u001b[0;31mSyntaxError\u001b[0m\u001b[0;31m:\u001b[0m unexpected EOF while parsing\n"
     ]
    }
   ],
   "source": [
    "import numpy as np\n",
    "from scipy import optimize as op\n",
    "\n",
    "def press_from_temp():"
   ]
  },
  {
   "cell_type": "code",
   "execution_count": null,
   "metadata": {
    "collapsed": true
   },
   "outputs": [],
   "source": []
  }
 ],
 "metadata": {
  "kernelspec": {
   "display_name": "Python 3",
   "language": "python",
   "name": "python3"
  },
  "language_info": {
   "codemirror_mode": {
    "name": "ipython",
    "version": 3
   },
   "file_extension": ".py",
   "mimetype": "text/x-python",
   "name": "python",
   "nbconvert_exporter": "python",
   "pygments_lexer": "ipython3",
   "version": "3.5.1"
  }
 },
 "nbformat": 4,
 "nbformat_minor": 0
}
