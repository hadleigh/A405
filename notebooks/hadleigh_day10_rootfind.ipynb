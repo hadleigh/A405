{
 "cells": [
  {
   "cell_type": "markdown",
   "metadata": {},
   "source": [
    "### ATSC 405  - day 10\n",
    "\n",
    "### Entropy Rootfinder\n",
    "\n",
    "#### Hadleigh Thompson, 21 Jan 2016\n",
    "\n",
    "Using rootfinder to solve exactly for saturation vapour pressure, and comparing with Thompkins 2.13, 2.15 "
   ]
  },
  {
   "cell_type": "markdown",
   "metadata": {},
   "source": [
    "From P Austin's notes' we will use:\n",
    "\n",
    "$$ l_v = (\\phi_{v}^{*} - \\phi_l)T $$\n",
    "\n",
    "We can manipulate this into a rootfinder form to get the entropy for a range of temperatures.\n",
    "\n",
    "$$ (\\phi_{v}^{*} - \\phi_l)T - l_v = 0 $$\n",
    "\n",
    "That is, for a given Temp the root of the equation will be the correct entropy.\n",
    "\n",
    "To get the entropy though we need to find the right stauration vapour pressure in the equation:\n",
    "\n",
    "$$ \\phi_{v}^{*} = c_{vp} log \\frac{T}{T_P} - R_v log \\frac{e_{sat}}{e_{s0}} + \\phi_{0} $$"
   ]
  },
  {
   "cell_type": "code",
   "execution_count": 10,
   "metadata": {
    "collapsed": false
   },
   "outputs": [],
   "source": [
    "import numpy as np\n",
    "from scipy import optimize as op\n",
    "import matplotlib.pyplot as plt\n",
    "% matplotlib inline\n",
    "\n",
    "l_o = 2.501e6    # enthalpy of evaporation\n",
    "temp_o = 273.16   # triple point temperature\n",
    "e_s0 = 6.11    # triple point saturation vapour pressure\n",
    "entropy_o = l_o / temp_o    # entropy of vapourization at triple point\n",
    "c_pv =1870.    # \n",
    "c_l = 4187.    #\n",
    "R_v = 461.5    # gas constant for  water vapour\n",
    "\n",
    "# function we want to find the root of, should be zero when e_sat is a root\n",
    "def eqn_8(e_sat, Temp):\n",
    "    return ((eqn_10(e_sat, Temp) - eqn_11(Temp)) * Temp) - eqn_13(Temp)\n",
    "\n",
    "# get entropy_v\n",
    "def eqn_10(e_sat, Temp):\n",
    "    return c_pv*np.log(Temp/temp_o) - (R_v*np.log(e_sat/e_s0)) + entropy_o\n",
    "\n",
    "# get entropy_l\n",
    "def eqn_11(Temp):\n",
    "    return c_l * np.log(Temp/temp_o)\n",
    "\n",
    "# get temperature dependent l_v\n",
    "def eqn_13(Temp):\n",
    "    return (c_pv - c_l)*(Temp - temp_o) + l_o"
   ]
  },
  {
   "cell_type": "markdown",
   "metadata": {},
   "source": [
    "#### Now we have our eqns, we can pass e_sat values to eqn 8 and when a value that makes the eqn true is used, the returned value will be zero.  In this way the rootfinder knows what to look for.\n",
    "\n",
    "#### This will then be compared to Thompkins equations 2.13 and 2.15"
   ]
  },
  {
   "cell_type": "code",
   "execution_count": 11,
   "metadata": {
    "collapsed": false
   },
   "outputs": [
    {
     "name": "stdout",
     "output_type": "stream",
     "text": [
      "At +1 degree C:\n",
      "Root finder value: 6.51768674 hPa\n",
      "Thompkins eqn 2.13: 6.51769229 hPa\n",
      "Thompkins eqn 2.15: 6.51780166 hPa\n"
     ]
    },
    {
     "name": "stderr",
     "output_type": "stream",
     "text": [
      "/Users/hadleighs/anaconda/lib/python3.5/site-packages/ipykernel/__main__.py:20: RuntimeWarning: divide by zero encountered in log\n"
     ]
    },
    {
     "data": {
      "text/plain": [
       "<matplotlib.text.Text at 0x10c53e080>"
      ]
     },
     "execution_count": 11,
     "metadata": {},
     "output_type": "execute_result"
    },
    {
     "data": {
      "image/png": "[encoded data removed]",
      "text/plain": [
       "<matplotlib.figure.Figure at 0x106820be0>"
      ]
     },
     "metadata": {},
     "output_type": "display_data"
    }
   ],
   "source": [
    "# now create array of temps and see trends of e_sat for a range of temps\n",
    "\n",
    "temp_list = np.linspace(273, 293, 20)\n",
    "\n",
    "# using root finder method\n",
    "def e_sat_finder(Temp):\n",
    "    e_sat = op.zeros.brentq(eqn_8,0.,1013., args=(Temp))\n",
    "    return e_sat\n",
    "\n",
    "# using Thompkins eqn 2.13\n",
    "def eqn_213(Temp):\n",
    "    l_v = 2.50e+6\n",
    "    e_s0 = 6.11\n",
    "    return e_s0 * np.exp((l_v / R_v) * ((1./temp_o) - (1./Temp)))\n",
    "\n",
    "# using to Thompkins eqn 2.15\n",
    "def eqn_215(Temp):\n",
    "    Temp = Temp - temp_o\n",
    "    return 611.2 * np.exp((17.6 * Temp) / (Temp + 243.5)) / 100.\n",
    "\n",
    "# compareing the three methods\n",
    "mine = [e_sat_finder(Temp) for Temp in temp_list]\n",
    "compare1 = [eqn_213(Temp) for Temp in temp_list]\n",
    "compare2 = [eqn_215(Temp) for Temp in temp_list]\n",
    "\n",
    "print('At +1 degree C:')\n",
    "print('Root finder value: %2.8f hPa' %(mine[1]))\n",
    "print('Thompkins eqn 2.13: %2.8f hPa' %(compare1[1]))\n",
    "print('Thompkins eqn 2.15: %2.8f hPa' %(compare2[1]))\n",
    "\n",
    "plt.plot(mine)\n",
    "plt.plot(compare1)\n",
    "plt.plot(compare2)\n",
    "plt.title('Saturation Vapour pressure values')\n",
    "plt.xlabel('Temperature (degC)')\n",
    "plt.ylabel('Vapour Pressure (hPa)')"
   ]
  },
  {
   "cell_type": "code",
   "execution_count": null,
   "metadata": {
    "collapsed": true
   },
   "outputs": [],
   "source": []
  }
 ],
 "metadata": {
  "kernelspec": {
   "display_name": "Python 3",
   "language": "python",
   "name": "python3"
  },
  "language_info": {
   "codemirror_mode": {
    "name": "ipython",
    "version": 3
   },
   "file_extension": ".py",
   "mimetype": "text/x-python",
   "name": "python",
   "nbconvert_exporter": "python",
   "pygments_lexer": "ipython3",
   "version": "3.5.1"
  }
 },
 "nbformat": 4,
 "nbformat_minor": 0
}
