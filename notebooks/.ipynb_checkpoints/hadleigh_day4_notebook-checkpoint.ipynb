{
 "cells": [
  {
   "cell_type": "markdown",
   "metadata": {},
   "source": [
    "### Hadleigh Thompson\n",
    "### January 2016\n",
    "\n",
    "#### ATSC 405 - day4_notebook"
   ]
  },
  {
   "cell_type": "markdown",
   "metadata": {},
   "source": [
    "#  Entropy problem\n",
    "\n",
    "Consider two compartments, each with a volume of 1 $m^3$, separated by a rigid, perfectly insulating membrane.\n",
    "\n",
    "Initially T_A = 300 K and p_A = $10^5$ Pa, and T_B= 100 K and p_B = 10^3 Pa.  Suppose the membrane breaks.  Find the final temperature and pressure in the 2 m^3 compartment.   Does the total entropy change?  By how much?"
   ]
  },
  {
   "cell_type": "markdown",
   "metadata": {
    "collapsed": true
   },
   "source": [
    "#### Finding mass:"
   ]
  },
  {
   "cell_type": "code",
   "execution_count": 1,
   "metadata": {
    "collapsed": false
   },
   "outputs": [
    {
     "name": "stdout",
     "output_type": "stream",
     "text": [
      "mass in box A = 1.1614 kg\n",
      "mass in box A = 0.0348 kg\n"
     ]
    }
   ],
   "source": [
    "#PV = mRT\n",
    "\n",
    "import numpy as np\n",
    "\n",
    "# Box A\n",
    "temp_A = 300.\n",
    "pressure_A = 1e5\n",
    "volume_A = 1.\n",
    "Rd = 287.\n",
    "\n",
    "mass_A = (pressure_A * volume_A) / (Rd * temp_A)\n",
    "\n",
    "# Box B\n",
    "temp_B = 100.\n",
    "pressure_B = 1e3\n",
    "volume_B = 1.\n",
    "Rd = 287.\n",
    "\n",
    "mass_B = (pressure_B * volume_B) / (Rd * temp_B)\n",
    "\n",
    "\n",
    "print('mass in box A = %2.4f kg' %mass_A)\n",
    "print('mass in box A = %2.4f kg' %mass_B)"
   ]
  },
  {
   "cell_type": "markdown",
   "metadata": {},
   "source": [
    "#### Next step\n",
    "\n",
    "There is no work on/by the gas, therefore the amount of u in each box is the same as q, whihc should be:\n",
    "\n",
    "$$q = C_v * T$$\n",
    "\n",
    "but we have units of $Jkg^{-1}$ after this, so we multiple by the mass in each box to get U. \n",
    "\n",
    "The total U of the system will the be a conserved quatitiy during the reaction."
   ]
  },
  {
   "cell_type": "code",
   "execution_count": 2,
   "metadata": {
    "collapsed": false
   },
   "outputs": [
    {
     "name": "stdout",
     "output_type": "stream",
     "text": [
      "Total U of the system: 252675.958 J\n"
     ]
    }
   ],
   "source": [
    "# the q and u of each box\n",
    "\n",
    "Cv = 718     # Jkg^-1K^-1\n",
    "\n",
    "q_A = Cv * temp_A\n",
    "q_B = Cv * temp_B\n",
    "\n",
    "u_A = q_A\n",
    "u_B = q_B\n",
    "\n",
    "big_U_A = u_A * mass_A\n",
    "big_U_B = u_B * mass_B\n",
    "\n",
    "total_U = (big_U_B + big_U_A) \n",
    "\n",
    "print('Total U of the system: %2.3f J' %(total_U))"
   ]
  },
  {
   "cell_type": "markdown",
   "metadata": {},
   "source": [
    "#### Now:\n",
    "\n",
    "Working backwards: we can divide by the mass to get u of the system, then that will give us T of the new system using Cv again, then the equation of state will provide the rest:"
   ]
  },
  {
   "cell_type": "code",
   "execution_count": 3,
   "metadata": {
    "collapsed": false
   },
   "outputs": [
    {
     "name": "stdout",
     "output_type": "stream",
     "text": [
      "At Equilibrium: \n",
      " Temp = 294.175 K \n",
      " Pressure = 5e+04 Pa\n"
     ]
    }
   ],
   "source": [
    "# supposing the barrier has been breached - the total internal energy of the system U will be the same\n",
    "# but we can add the masses and the volumes together\n",
    "\n",
    "mass_new = (mass_A + mass_B)\n",
    "volume_new = volume_A + volume_B\n",
    "\n",
    "u_new = total_U / mass_new\n",
    "\n",
    "q_new = u_new\n",
    "\n",
    "temp_new = q_new / Cv\n",
    "\n",
    "pressure_new = (mass_new * Rd * temp_new) / volume_new\n",
    "\n",
    "print('At Equilibrium: \\n Temp = %2.3f K \\n Pressure = %.e Pa' %(temp_new, pressure_new))"
   ]
  },
  {
   "cell_type": "markdown",
   "metadata": {},
   "source": [
    "#### Entropy\n",
    "Then the Entropy change wil be:\n",
    "$$ds = \\frac{dq}{T}$$"
   ]
  },
  {
   "cell_type": "code",
   "execution_count": 4,
   "metadata": {
    "collapsed": false
   },
   "outputs": [
    {
     "name": "stdout",
     "output_type": "stream",
     "text": [
      "Thus the Entropy change is 686.7 Jk^-1\n"
     ]
    }
   ],
   "source": [
    "# Entropy\n",
    "\n",
    "entropy =  2 * ((pressure_new * 2)/temp_new) # Pa.m^3.K^-1\n",
    "print('Thus the Entropy change is %2.1f Jk^-1' %(entropy))"
   ]
  },
  {
   "cell_type": "code",
   "execution_count": null,
   "metadata": {
    "collapsed": true
   },
   "outputs": [],
   "source": []
  }
 ],
 "metadata": {
  "kernelspec": {
   "display_name": "Python 3",
   "language": "python",
   "name": "python3"
  },
  "language_info": {
   "codemirror_mode": {
    "name": "ipython",
    "version": 3
   },
   "file_extension": ".py",
   "mimetype": "text/x-python",
   "name": "python",
   "nbconvert_exporter": "python",
   "pygments_lexer": "ipython3",
   "version": "3.5.1"
  }
 },
 "nbformat": 4,
 "nbformat_minor": 0
}
