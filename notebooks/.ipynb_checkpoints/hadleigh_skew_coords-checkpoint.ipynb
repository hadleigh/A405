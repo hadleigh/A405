{
 "cells": [
  {
   "cell_type": "markdown",
   "metadata": {},
   "source": [
    "# Skew-T - ln P plot\n",
    "\n",
    "Demonstrate how to construct dry adiabats and isotherms for\n",
    "a thermodynamic diagram using the functions in\n",
    "[makeSkew.py](https://github.com/phaustin/A405/blob/master/a405skewT/makeSkew.py)"
   ]
  },
  {
   "cell_type": "code",
   "execution_count": 106,
   "metadata": {
    "collapsed": false
   },
   "outputs": [],
   "source": [
    "import numpy as np\n",
    "import pandas as pd\n",
    "import h5py\n",
    "from pprint import pformat\n",
    "import matplotlib.pyplot as plt\n",
    "from scipy import optimize as op"
   ]
  },
  {
   "cell_type": "markdown",
   "metadata": {},
   "source": [
    "### Skewed temperature coordinates\n",
    "\n",
    "If you try plotting your soundings on the conventional plot above, you'll see\n",
    "that the height-temperature dependence makes it difficult to see the temperature\n",
    "and dewpoint together.  The traditional approach is to slant the temperature\n",
    "line by a constant slope (note that this is different from rotating the line,\n",
    "because the y axis doesn't change)"
   ]
  },
  {
   "cell_type": "code",
   "execution_count": 107,
   "metadata": {
    "collapsed": true
   },
   "outputs": [],
   "source": [
    "def convertSkewToTemp(xcoord, press, skew):\n",
    "    \"\"\"\n",
    "    convertSkewToTemp(xcoord, press, skew)\n",
    "    Determines temperature from knowledge of a plotting coordinate\n",
    "    system and corresponding plot skew.\n",
    "    Parameters\n",
    "    - - - - - -\n",
    "    xcoord : int\n",
    "        X coordinate in temperature plotting coordinates.\n",
    "    press : float\n",
    "        Pressure (hPa).\n",
    "    skew : int\n",
    "        Skew of a given coordinate system.\n",
    "    Returns\n",
    "    - - - -\n",
    "    Temp : float\n",
    "        Converted temperature in degC.\n",
    "    Examples\n",
    "    - - - - -\n",
    "    >>> convertSkewToTemp(300, 8.e4, 30)\n",
    "    638.6934574096806\n",
    "    \"\"\"\n",
    "    Temp = xcoord  + skew * np.log(press);\n",
    "    return Temp\n",
    "\n",
    "def convertTempToSkew(Temp, press, skew):\n",
    "    \"\"\"\n",
    "    convertTempToSkew(Temp, press, skew)\n",
    "    Determines the transformed temperature in plotting coordinates.\n",
    "    Parameters\n",
    "    - - - - - -\n",
    "    Temp : float\n",
    "        Temperature (degC)\n",
    "    press : float\n",
    "        Pressure (hPa).\n",
    "    skew : int\n",
    "        Designated skew factor of temperature.\n",
    "    Returns\n",
    "    - - - -\n",
    "    tempOut : float\n",
    "        Converted temperature (degC).\n",
    "    Examples\n",
    "    - - - - -\n",
    "    >>> convertTempToSkew(30., 8.e4, 30)\n",
    "    -308.69345740968055\n",
    "    \"\"\"\n",
    "    tempOut = Temp - skew * np.log(press);\n",
    "    return tempOut"
   ]
  },
  {
   "cell_type": "markdown",
   "metadata": {},
   "source": [
    "### For Wednesday 9am\n",
    "\n",
    "Check in a notebook that puts your sounding on the tephigram and draws a line of constant saturation mixing ratio \n",
    "$r_s$ = 10 g/kg between 1000 and  400 hPa.  \n",
    "\n",
    "Hint -- you want to rootfind the temperature that satisfies $r_s = \\frac{e_s(T)}{p - e_s(T)} * \\epsilon = 0.01\\ g/kg, \\ where \\ \\epsilon = 0.622$, \n",
    "for a range of pressures then convert the temperatures to skew coordinates."
   ]
  },
  {
   "cell_type": "markdown",
   "metadata": {},
   "source": [
    "======================================================================================================================\n",
    "\n",
    "### Hadleigh's Solution:\n",
    "\n",
    "(Cambridge bay soundings from 2015. Note: the cold temperature regime)\n",
    "\n",
    "======================================================================================================================"
   ]
  },
  {
   "cell_type": "code",
   "execution_count": 108,
   "metadata": {
    "collapsed": false
   },
   "outputs": [
    {
     "name": "stdout",
     "output_type": "stream",
     "text": [
      "reading file: hilo.h5\n",
      "\n",
      "empty key:  TITLE\n",
      "empty key:  CLASS\n",
      "empty key:  VERSION\n",
      "empty key:  PYTABLES_FORMAT_VERSION\n"
     ]
    },
    {
     "name": "stderr",
     "output_type": "stream",
     "text": [
      "/Users/hadleighs/anaconda/lib/python3.5/site-packages/matplotlib/pyplot.py:516: RuntimeWarning: More than 20 figures have been opened. Figures created through the pyplot interface (`matplotlib.pyplot.figure`) are retained until explicitly closed and may consume too much memory. (To control this warning, see the rcParam `figure.max_open_warning`).\n",
      "  max_open_warning, RuntimeWarning)\n"
     ]
    }
   ],
   "source": [
    "from a405skewT.makeSkew import makeSkewDry\n",
    "import a405skewT.makeSkew\n",
    "from importlib import reload\n",
    "reload(a405skewT.makeSkew)\n",
    "\n",
    "#%config InlineBackend.close_figures=False\n",
    "fig,ax =plt.subplots(1,1,figsize=(8,8))\n",
    "ax,skew = makeSkewDry(ax)\n",
    "\n",
    "filename='hilo.h5';\n",
    "print('reading file: %s\\n' %filename)\n",
    "\n",
    "attributes={}\n",
    "with h5py.File(filename,'r') as f:\n",
    "    keys=f.attrs.keys()\n",
    "    for key in keys:\n",
    "        try:\n",
    "            attributes[key]=f.attrs[key]\n",
    "        except IOError:\n",
    "            print('empty key: ',key)\n",
    "\n",
    "separator= '\\n' + '+'*30 + '\\n'\n",
    "sounding_dict={}\n",
    "with pd.HDFStore(filename,'r') as store:\n",
    "    times=store.keys()\n",
    "    for the_time in times:\n",
    "        sounding_dict[the_time]=store[the_time]\n",
    "sounding=sounding_dict[times[3]]\n",
    "title_string=attributes['header']\n",
    "index=title_string.find(' Observations at')\n",
    "location=title_string[:index]\n",
    "title='{} at {}'.format(location,times[0][2:])\n",
    "units=attributes['units'].split(';')\n",
    "units_dict={}\n",
    "for count,var in enumerate(sounding.columns):\n",
    "    units_dict[var]=units[count]\n",
    "\n",
    "triplets=zip(sounding['temp'],sounding['dwpt'],sounding['pres'])\n",
    "xcoord_T=[]\n",
    "xcoord_Td=[]\n",
    "for a_temp,a_dew,a_pres in triplets:\n",
    "    xcoord_T.append(convertTempToSkew(a_temp,a_pres,skew))\n",
    "    xcoord_Td.append(convertTempToSkew(a_dew,a_pres,skew))\n",
    "ax.plot(xcoord_T,sounding['pres'],color='k',label='temp')\n",
    "ax.plot(xcoord_Td,sounding['pres'],color='g',label='dew')\n",
    "\n",
    "[line.set(linewidth=3) for line in ax.lines[-2:]]\n",
    "ax.set(title=title)\n",
    "ax.set(ylim=[1000,400])\n",
    "fig.canvas.draw()"
   ]
  },
  {
   "cell_type": "markdown",
   "metadata": {},
   "source": [
    "#### Then take the above plot and add a saturation vapout pressure isohume..."
   ]
  },
  {
   "cell_type": "markdown",
   "metadata": {
    "collapsed": true
   },
   "source": [
    "$r_s = \\frac{e_s(T)}{p - e_s(T)} * \\epsilon = 0.01\\ g/kg, \\ where \\ \\epsilon = 0.622$, "
   ]
  },
  {
   "cell_type": "code",
   "execution_count": 109,
   "metadata": {
    "collapsed": false
   },
   "outputs": [
    {
     "name": "stdout",
     "output_type": "stream",
     "text": [
      "[1000  990  980  970  960  950  940  930  920  910  900  890  880  870  860\n",
      "  850  840  830  820  810  800  790  780  770  760  750  740  730  720  710\n",
      "  700  690  680  670  660  650  640  630  620  610  600  590  580  570  560\n",
      "  550  540  530  520  510  500  490  480  470  460  450  440  430  420  410\n",
      "  400]\n",
      "[13.853650314968705, 13.699037768883441, 13.54304402554376, 13.385642345415341, 13.226805188066889, 13.06650417953131, 12.904710077976901, 12.741392737582116, 12.576521070499412, 12.410063006785084, 12.241985452162638, 12.072254243477033, 11.900834101686046, 11.727688582222783, 11.552780022550314, 11.3760694867148, 11.197516706687773, 11.01708002027102, 10.834716305318313, 10.65038091000777, 10.464027578875706, 10.275608374297555, 10.085073593074254, 9.892371677751624, 9.697449122267113, 9.500250371480913, 9.300717714107716, 9.098791168519808, 8.894408360841938, 8.687504394702579, 8.47801171194405, 8.265859943523514, 8.050975749766069, 7.833282649027877, 7.612700833758554, 7.38914697281561, 7.162533998780434, 6.932770878882429, 6.699762367985258, 6.46340874191603, 6.223605509222263, 5.980243099218248, 5.733206523935399, 5.4823750112952245, 5.227621606507853, 4.968812738319309, 4.705807746304783, 4.438458364916816, 4.166608159432222, 3.890091908291841, 3.608734925576476, 3.322352316485584, 3.030748157683455, 2.733714593179374, 2.43103083503937, 2.1224620565968086, 1.8077581639210534, 1.4866524290451055, 1.158859965776598, 0.8240760257300643, 0.48197408841105993]\n"
     ]
    }
   ],
   "source": [
    "\n",
    "def find_rs(Temp, Press):\n",
    "    \"\"\"\n",
    "    function we want the root of; thompkins eqn 2.20\n",
    "    should be zero when the temp is correct for mixing ratio rs at a given pressure\n",
    "    \"\"\"\n",
    "    epsilon = 0.622\n",
    "    es = find_es(Temp)\n",
    "    return ((epsilon * es) / (Press - es) - 0.01)\n",
    "            \n",
    "def find_es(Temp):\n",
    "    \"\"\"\n",
    "    helper function to get es for a given temp from thompkins eqn 2.15\n",
    "    \"\"\"\n",
    "    return (611.2 * np.exp((17.67 * Temp) / (Temp + 243.5))) / 100.\n",
    "            \n",
    "def find_temps(Press):\n",
    "    \"\"\"\n",
    "    finds the roots of find_rs, -30 to 30 deg C gives realistic atmosphere\n",
    "    \"\"\"\n",
    "    Temp = op.zeros.brentq(find_rs, -30., 30., args=(Press))\n",
    "    return Temp\n",
    "\n",
    "pressure_list = np.arange(1000, 390, -10)\n",
    "\n",
    "temp_list = [find_temps(Press) for Press in pressure_list]\n",
    "\n",
    "print(pressure_list)\n",
    "print(temp_list)"
   ]
  },
  {
   "cell_type": "markdown",
   "metadata": {
    "collapsed": true
   },
   "source": [
    "#### Plot the isohumes in skew coords:"
   ]
  },
  {
   "cell_type": "code",
   "execution_count": null,
   "metadata": {
    "collapsed": true
   },
   "outputs": [],
   "source": []
  }
 ],
 "metadata": {
  "kernelspec": {
   "display_name": "Python 3",
   "language": "python",
   "name": "python3"
  },
  "language_info": {
   "codemirror_mode": {
    "name": "ipython",
    "version": 3
   },
   "file_extension": ".py",
   "mimetype": "text/x-python",
   "name": "python",
   "nbconvert_exporter": "python",
   "pygments_lexer": "ipython3",
   "version": "3.5.1"
  }
 },
 "nbformat": 4,
 "nbformat_minor": 0
}
