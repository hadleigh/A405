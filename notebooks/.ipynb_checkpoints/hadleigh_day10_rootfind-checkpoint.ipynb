{
 "cells": [
  {
   "cell_type": "markdown",
   "metadata": {},
   "source": [
    "### ATSC 405  - day 10\n",
    "\n",
    "### Entropy Rootfinder\n",
    "\n",
    "#### Hadleigh Thompson, 21 Jan 2016\n",
    "\n",
    "Using a root-finder to solve exact for entropy at saturation, and comparing with Thompkins eqn 2.13, 2.15 "
   ]
  },
  {
   "cell_type": "markdown",
   "metadata": {},
   "source": [
    "From P Austin's notes' we will use:\n",
    "\n",
    "$$ l_v = (\\phi_{v}^{*} - \\phi_l)T $$\n",
    "\n",
    "We can manipulate this into a rootfinder form to get the entropy for a range of temperatures.\n",
    "\n",
    "$$ (\\phi_{v}^{*} - \\phi_l)T - l_v = 0 $$\n",
    "\n",
    "With the saturated entropy $\\phi_{v}^{*}$:\n",
    "\n",
    "$$ \\phi_{v}^{*} = c_{pv} log \\frac{T}{T_P} - R log \\frac{e_{sat}}{e_{s0}} + \\phi_0 $$\n",
    "\n",
    "That is, for a given temp, we can try various saturation vapour pressures until the difference between our guess, and the actual entropy is zero."
   ]
  },
  {
   "cell_type": "code",
   "execution_count": 2,
   "metadata": {
    "collapsed": false
   },
   "outputs": [
    {
     "ename": "SyntaxError",
     "evalue": "unexpected EOF while parsing (<ipython-input-2-e0a8f9e82343>, line 4)",
     "output_type": "error",
     "traceback": [
      "\u001b[0;36m  File \u001b[0;32m\"<ipython-input-2-e0a8f9e82343>\"\u001b[0;36m, line \u001b[0;32m4\u001b[0m\n\u001b[0;31m    def press_from_temp():\u001b[0m\n\u001b[0m                          ^\u001b[0m\n\u001b[0;31mSyntaxError\u001b[0m\u001b[0;31m:\u001b[0m unexpected EOF while parsing\n"
     ]
    }
   ],
   "source": [
    "import numpy as np\n",
    "from scipy import optimize as op\n",
    "\n",
    "temp_triplepoint = 273.16    # K\n",
    "sat_press_zero = 6.11e+2    # Pa\n",
    "enthalpy_vapour = 2.501e+6\n",
    "c_constPV = 1870.    # Jkg^-1K^-1\n",
    "c_liquid = 4187.    #Jkg^-1K^-1\n",
    "R_vapour = 416.5     # Jkg^-1K^-1\n",
    "\n",
    "entropy_triple = enthalpy_vapour / temp_triple\n",
    "\n",
    "def sta_entropy\n",
    "def root_function(temp,theta,press):\n",
    "    \"\"\"function we want to find the root of\n",
    "    \"\"\"\n",
    "    \n",
    "    return (vapour_press - liquid_press)*temp - "
   ]
  },
  {
   "cell_type": "code",
   "execution_count": null,
   "metadata": {
    "collapsed": true
   },
   "outputs": [],
   "source": []
  }
 ],
 "metadata": {
  "kernelspec": {
   "display_name": "Python 3",
   "language": "python",
   "name": "python3"
  },
  "language_info": {
   "codemirror_mode": {
    "name": "ipython",
    "version": 3
   },
   "file_extension": ".py",
   "mimetype": "text/x-python",
   "name": "python",
   "nbconvert_exporter": "python",
   "pygments_lexer": "ipython3",
   "version": "3.5.1"
  }
 },
 "nbformat": 4,
 "nbformat_minor": 0
}
