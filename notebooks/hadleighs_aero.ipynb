{
 "cells": [
  {
   "cell_type": "code",
   "execution_count": 315,
   "metadata": {
    "collapsed": true
   },
   "outputs": [],
   "source": [
    "import numpy as np"
   ]
  },
  {
   "cell_type": "markdown",
   "metadata": {},
   "source": [
    "### The normal distribution\n",
    "\n",
    "Recall the definition for the normal distribution"
   ]
  },
  {
   "cell_type": "markdown",
   "metadata": {},
   "source": [
    "$\\mathcal{N}(\\alpha;\\mu,\\sigma) = \\frac{1}{\\sigma\\sqrt{2\\pi}} \\exp\\left[-\\frac {(\\alpha - \\mu)^{2}} {2\\sigma^{2}}\\right]$\n",
    "\n",
    "In python we can write this as"
   ]
  },
  {
   "cell_type": "code",
   "execution_count": 316,
   "metadata": {
    "collapsed": false
   },
   "outputs": [
    {
     "name": "stdout",
     "output_type": "stream",
     "text": [
      "gaussian normalizes to 0.9999999999999294\n",
      "numerical mean is 4.9999999999996465, analytic mean is 5\n",
      "numerical sd is 2.0057309991925987, analytic sigma is 2\n"
     ]
    },
    {
     "data": {
      "image/png": "[encoded data removed]",
      "text/plain": [
       "<matplotlib.figure.Figure at 0x118400748>"
      ]
     },
     "metadata": {},
     "output_type": "display_data"
    }
   ],
   "source": [
    "%matplotlib inline\n",
    "def normal(alpha,mu,sigma):\n",
    "    out=(1/(sigma*np.sqrt(2*np.pi)))*np.exp(-(alpha - mu)**2./(2*sigma**2.))\n",
    "    return out\n",
    "    \n",
    "alpha = np.linspace(-10,20,100)\n",
    "#\n",
    "# analytic mean and standard deviation\n",
    "#\n",
    "mu=5\n",
    "sigma = 2\n",
    "out=normal(alpha,mu,sigma)\n",
    "out_centers = (out[1:] + out[:-1])/2.\n",
    "alpha_centers = (alpha[1:] + alpha[:-1])/2.\n",
    "fig,ax = plt.subplots(1,1)\n",
    "ax.plot(alpha,out)\n",
    "#\n",
    "# numerical area -- should be 1 for pdf\n",
    "#\n",
    "area = np.sum(out_centers*np.diff(alpha))\n",
    "print('gaussian normalizes to {}'.format(area))\n",
    "#\n",
    "# numerical mean should be 5\n",
    "#\n",
    "mean = np.sum(alpha_centers*out_centers*np.diff(alpha))\n",
    "print('numerical mean is {}, analytic mean is {}'.format(mean,mu))\n",
    "#\n",
    "# numerical sd should be 2\n",
    "#\n",
    "var = np.sum((alpha_centers - mean)**2.*out_centers*np.diff(alpha))\n",
    "print(\"numerical sd is {}, analytic sigma is {}\".format(np.sqrt(var),sigma))\n",
    "                   "
   ]
  },
  {
   "cell_type": "markdown",
   "metadata": {},
   "source": [
    "### The lognormal distribution"
   ]
  },
  {
   "cell_type": "markdown",
   "metadata": {},
   "source": [
    "For a **lognormal** distribution, the variable that is normally distributed is $\\alpha = \\ln x$.  This distribution arises because processes that create the end value (like the mass of areosols) are *multiplicative* instead of *additive*.  That is, while a normal variable is generated by the sum of many random variables (the central limit theorem) a *lognomal variable* is generated by the product of many random variables"
   ]
  },
  {
   "cell_type": "markdown",
   "metadata": {},
   "source": [
    "$\\mathcal{N}(\\ln(x);\\mu,\\sigma) = \\frac{1}{\\sigma\\sqrt{2\\pi}} \\exp\\left[-\\frac {(\\ln(x) - \\mu)^{2}} {2\\sigma^{2}}\\right], \\ \\ x>0.$\n",
    "\n",
    "Note that it's a little more complicated than just swapping $\\alpha = \\ln x$. Recall that a change of variables has to conserve area, i.e.:\n",
    "\n",
    "$\\mathcal{N}(\\alpha, \\mu, \\sigma) d\\alpha= \\mathcal{N}(\\ln x, \\mu, \\sigma) d\\alpha  = f(x)dx$\n",
    "\n",
    "and since:\n",
    "\n",
    "$d\\alpha = d \\alpha = \\frac{dx}{x}$ this means:\n",
    "\n",
    "$\\mathcal{N}(\\ln x, \\mu, \\sigma) d\\alpha  = f(x)\\; d\\alpha \\; x$  so that:\n",
    "\n",
    "$f(x) = \\frac{1}{x} N(\\ln x, \\mu, \\sigma) = \\frac{1}{x \\sigma\\sqrt{2\\pi}} \\exp\\left[-\\frac {(\\ln(x) - \\mu)^{2}} {2\\sigma^{2}}\\right]$\n",
    "\n",
    "In python:"
   ]
  },
  {
   "cell_type": "code",
   "execution_count": 317,
   "metadata": {
    "collapsed": false
   },
   "outputs": [
    {
     "name": "stdout",
     "output_type": "stream",
     "text": [
      "lognormal normalizes to 1.0000003181775388\n",
      "numerical mean is 1.609439140420588, analytic mean is 1.6094379124341003\n",
      "numerical sd is 0.6931476351064921, analytic sigma is 0.6931471805599453\n"
     ]
    },
    {
     "data": {
      "image/png": "[encoded data removed]",
      "text/plain": [
       "<matplotlib.figure.Figure at 0x118c0a8d0>"
      ]
     },
     "metadata": {},
     "output_type": "display_data"
    }
   ],
   "source": [
    "def lognormal(x,mu,sigma):\n",
    "    \"\"\"\n",
    "    parameters\n",
    "    ----------\n",
    "    x: vector (float)  \n",
    "      aerosol masses (kg)  (for example)\n",
    "      \n",
    "    mu: float\n",
    "       log(mean mass)\n",
    "       \n",
    "    sigma: float\n",
    "       log(standard deviation)\n",
    "       \n",
    "    returns\n",
    "    -------\n",
    "    \n",
    "    out: vector (float)\n",
    "        lognormal pdf, normalized to 1\n",
    "        units\n",
    "    \n",
    "    \"\"\"\n",
    "    out=(1/(x*sigma*np.sqrt(2*np.pi)))*np.exp(-(np.log(x) - mu)**2./(2*sigma**2.))\n",
    "    return out\n",
    "\n",
    "x = np.linspace(-3,3,10000)\n",
    "x = 10**x\n",
    "mu=5\n",
    "sigma = 2\n",
    "out = lognormal(x,np.log(mu),np.log(sigma))\n",
    "fig,ax = plt.subplots(1,1)\n",
    "ax.plot(x,out)\n",
    "ax.set(xlim=[0,25])\n",
    "out_centers = (out[1:] + out[:-1])/2.\n",
    "x_centers = (x[1:] + x[:-1])/2. \n",
    "\n",
    "#\n",
    "# total probability should be 1\n",
    "#\n",
    "area = np.sum(out_centers*np.diff(x))\n",
    "print('lognormal normalizes to {}'.format(area))\n",
    "#\n",
    "# mean should be log(5)\n",
    "#\n",
    "mean = np.sum(np.log(x_centers)*out_centers*np.diff(x))\n",
    "print('numerical mean is {}, analytic mean is {}'.format(mean,np.log(mu)))\n",
    "#\n",
    "# sd should be log(2)\n",
    "#\n",
    "var = np.sum((np.log(x_centers) - mean)**2.*out_centers*np.diff(x))\n",
    "print(\"numerical sd is {}, analytic sigma is {}\".format(np.sqrt(var),np.log(sigma)))"
   ]
  },
  {
   "cell_type": "markdown",
   "metadata": {},
   "source": [
    "### lognormal aerosol mass distribution"
   ]
  },
  {
   "cell_type": "markdown",
   "metadata": {},
   "source": [
    "It's an observational fact that aerosol masses tend to follow a lognormal distribuiton.\n",
    "\n",
    "As a specific example take:\n",
    "\n",
    "1\\. Mean aerosol mass $\\mu = 2 \\times 10^{-17}$ kg\n",
    "\n",
    "2\\. Log of the standard deviation = $\\ln 1.7$\n",
    "\n",
    "3\\. Total mass of aerosols = $10^{-9}\\; kg\\;m^{-3}$ = 1 $\\mu g\\;m^{-3}$\n",
    "\n",
    "4\\. Aerosol density 1775 $kg\\,m^{-3}$\n",
    "\n",
    "So what is the radius of a mean aerosol?  We want to find:\n",
    "\n",
    "$4/3 \\pi r^3 \\times \\rho_{aer}$ = $2 \\times 10^{-17}$ kg"
   ]
  },
  {
   "cell_type": "code",
   "execution_count": 318,
   "metadata": {
    "collapsed": false
   },
   "outputs": [
    {
     "name": "stdout",
     "output_type": "stream",
     "text": [
      "volume mean radius is 0.13907455414506933 microns\n"
     ]
    }
   ],
   "source": [
    "rho_aer = 1775 #kg/m^3\n",
    "rad_cubed = 2.e-17/(4./3.*np.pi*rho_aer)\n",
    "volume_mean_rad = rad_cubed**(1./3.)\n",
    "print('volume mean radius is {} microns'.format(volume_mean_rad*1.e6))"
   ]
  },
  {
   "cell_type": "markdown",
   "metadata": {},
   "source": [
    "Plot the mass distribution as a function of aerosol dry radius.\n",
    "\n",
    "1\\. First get the mass distribution as a function of mass\n",
    "\n"
   ]
  },
  {
   "cell_type": "code",
   "execution_count": 319,
   "metadata": {
    "collapsed": true
   },
   "outputs": [],
   "source": [
    "mass_vals = np.linspace(-19,-15,100)\n",
    "mass_vals = 10**mass_vals\n",
    "tot_mass = 1.e-9 #kg/m^3\n",
    "mu= np.log(2.e-17)\n",
    "sd = np.log(1.7)\n",
    "out = tot_mass*lognormal(mass_vals,mu,sd)"
   ]
  },
  {
   "cell_type": "markdown",
   "metadata": {},
   "source": [
    "2\\. Note the units:  out has units of $kg\\;m^{-3}\\;kg^{-1}$ and \n",
    "mass_vals has units of $kg$.  For plotting, it would be\n",
    "better to have the x-axis in picograms (pg) where \n",
    "$1 pg = 1 kg \\times 10^{15}\\;pg\\;kg^{-1}$\n",
    "\n",
    "In addition the units for the y axis become:\n",
    "\n",
    "$kg\\;m^{-3}\\;kg^{-1}\\;10^{-15}\\;kg\\;pg^{-1}$\n",
    "\n",
    "In the same way, we can convert the aerosol mass concentration from\n",
    "$kg\\;m^{-1}$ to micrograms: $kg \\times 10^{9} \\mu g\\;kg^{-1}$\n",
    "\n",
    "That makes the y axis units:\n",
    "\n",
    "\n",
    "$kg\\;m^{-3}\\;kg^{-1}$ = 1 $kg \\times 10^{9} \\mu g\\;kg^{-1}\\;kg^{-1}\\;10^{-15}\\;kg\\;pg^{-1}$\n",
    "= $10^{-6}\\ \\mu g\\;m^{-3}\\;pg^{-1}$\n",
    "\n",
    "So when we plot, we want to multiply the xaxis by $10^{15}$ and the yaxis by $10^{-6}$\n"
   ]
  },
  {
   "cell_type": "code",
   "execution_count": 320,
   "metadata": {
    "collapsed": false
   },
   "outputs": [
    {
     "name": "stdout",
     "output_type": "stream",
     "text": [
      "area in micrograms/m^3 = 1.0014431705752074\n"
     ]
    },
    {
     "data": {
      "image/png": "[encoded data removed]",
      "text/plain": [
       "<matplotlib.figure.Figure at 0x117e9a438>"
      ]
     },
     "metadata": {},
     "output_type": "display_data"
    }
   ],
   "source": [
    "plt.close('all')\n",
    "fig,ax = plt.subplots(1,1)\n",
    "ax.plot(mass_vals*1.e15,out*1.e-6)\n",
    "ax.set_xlim([0,0.1])\n",
    "labels=ax.set(xlabel=\"particle mass (pg)\",ylabel=\"mass dist $(\\mu g\\;m^{-3}\\;pg^{-1})$\")\n",
    "out_centers = (out[1:] + out[:-1])/2.\n",
    "area = np.sum(out_centers*np.diff(mass_vals)*1.e15*1.e-6)\n",
    "print(\"area in micrograms/m^3 = {}\".format(area))"
   ]
  },
  {
   "cell_type": "markdown",
   "metadata": {},
   "source": [
    "### Number distribution n(r)  ($\\# \\,m^{-3}\\;m^{-1}$)\n",
    "\n",
    "If we know the density of the spherical aerosols and the aerosol mass in a bin,\n",
    "then we can figure out the number of aerosols/$m^3$ in the bin.\n",
    "\n",
    "Call the mass distribution $mass_{dist}$ with units of $(\\mu g\\;m^{-3}\\;pg^{-1})$.  Then\n",
    "the aerosol concentration for aerosols with masses in the range $m \\rightarrow m+dm$ is\n",
    "\n",
    "$m_{bin}(m) = mass_{dist}(m) dm$  units: $kg\\;m^{-3}$\n",
    "\n",
    "In the same way the numbers of aerosols in the bin is \n",
    "\n",
    "$n_{bin}$ = $n(r) dr$  units: $\\#\\;m^{-3}$\n",
    "\n",
    "but the aerosols are spherical, so in each bin with center mass $m$ and center\n",
    "radius $r$:\n",
    "\n",
    "$m_{bin} = 4/3 \\pi r^3 \\rho_{aer} n_{bin}$\n",
    "\n",
    "$mass_{dist} dm = 4/3 \\pi r^3 \\rho_{aer} n(r) dr$\n",
    "\n",
    "$dm = d (4/3 \\pi r^3 \\rho_{aer}) = 4 \\pi r^2 \\rho_{aer} dr$\n",
    "\n",
    "So combining these gives:\n",
    "\n",
    "$n(r) = \\frac{3}{r} mass_{dist}(m)$\n",
    "\n",
    "**Units**\n",
    "\n",
    "We're still in mks, so $n(r)$ has units of $\\#\\;m^{-3}\\;m^{-1}$.  \n",
    "Make this:\n",
    "\n",
    "1 $\\#\\;m^{-3}\\;m^{-1}$ = 1 $\\#m^{-3} \\times 10^{-6}\\;m^{3}\\;cm^{-3} \\times 10^{-6} m\\;\\mu m^{-1}$ = $1 \\times 10^{-12}\\ \\#\\;cm^{-3}\\; \\mu m^{-1}$\n",
    "\n",
    "So again, when we plot we multiply the xaxis by $10^6$ and the yaxis by $10^{-12}$\n"
   ]
  },
  {
   "cell_type": "code",
   "execution_count": 321,
   "metadata": {
    "collapsed": false
   },
   "outputs": [
    {
     "name": "stdout",
     "output_type": "stream",
     "text": [
      "total number concentration is 57.57 #/cc\n"
     ]
    },
    {
     "data": {
      "image/png": "[encoded data removed]",
      "text/plain": [
       "<matplotlib.figure.Figure at 0x11a6c1dd8>"
      ]
     },
     "metadata": {},
     "output_type": "display_data"
    }
   ],
   "source": [
    "rad_vals = (mass_vals/(rho_aer*4./3.))**(1./3.)\n",
    "ndist = 3.*out/rad_vals  #units of number/m^3 per m bin width\n",
    "fig,ax = plt.subplots(1,1)\n",
    "ncenter = (ndist[1:] + ndist[:-1])/2.\n",
    "#\n",
    "# convert radii to microns and ndist to #/cc/um\n",
    "#\n",
    "ax.plot(rad_vals*1.e6,ndist*1.e-12)\n",
    "ax.set(xlim=[0,0.4],xlabel=\"dry radius ($\\mu m$)\",\n",
    "      ylabel = r'n(r) $\\# cm^{-3}\\;\\mu m^{-1}$')\n",
    "total_num=np.sum(ncenter*np.diff(rad_vals)*1e-6)\n",
    "print(\"total number concentration is {:5.2f} #/cc\".format(total_num))"
   ]
  },
  {
   "cell_type": "markdown",
   "metadata": {},
   "source": [
    "### problem for Wednesday\n",
    "\n",
    "Add a cell to this notebook that makes a plot of $N(r)$ vs. $S_{crit}$ for the $n(r)$ in the previous cell,  where:\n",
    "\n",
    "$N(r) = \\int_r^\\infty n(r) dr$ is the number of aerosols with dry radii larger than $r$ and $S_{crit}$ is the critical supersaturation at radius r for these ammonium sulphate aerosols.  Explain briefly why this is the output you would expect to see from an aerosol size counter based on a cloud chamber with a laser scattering sensor."
   ]
  },
  {
   "cell_type": "markdown",
   "metadata": {
    "collapsed": true
   },
   "source": [
    "### Hadleigh's Solution"
   ]
  },
  {
   "cell_type": "code",
   "execution_count": 329,
   "metadata": {
    "collapsed": false
   },
   "outputs": [
    {
     "data": {
      "text/plain": [
       "<matplotlib.text.Text at 0x1174979e8>"
      ]
     },
     "execution_count": 329,
     "metadata": {},
     "output_type": "execute_result"
    },
    {
     "data": {
      "image/png": "[encoded data removed]",
      "text/plain": [
       "<matplotlib.figure.Figure at 0x116752908>"
      ]
     },
     "metadata": {},
     "output_type": "display_data"
    }
   ],
   "source": [
    "def find_S_star(m_aero):\n",
    "    S_star = (1.54e-12 * (1/np.sqrt(m_aero)))\n",
    "    S_star = S_star * 1000 # return as a supersaturation percentage\n",
    "    return S_star\n",
    "\n",
    "S_star_vals = [find_S_star(mass) for mass in mass_vals]\n",
    "\n",
    "fig1, ax1 = plt.subplots(1,1)\n",
    "plt.plot(S_star_vals, rad_vals*1e5)\n",
    "plt.ylabel('Mass of Activated Aerosol Particles (pg)')\n",
    "plt.xlabel('Supersaturation in cloud chamber \\n (% above Saturation)')\n"
   ]
  },
  {
   "cell_type": "markdown",
   "metadata": {
    "collapsed": true
   },
   "source": [
    "#### This shows that as the supersaturation in the cloud chamber increases (above and beyond saturation) the size of the aerosol that can be activated gets smaller - Intially very large aerosols with low S_crit are activated, and it then its takes more energy and hence more saturation to activate the smaller aerosols that have a higher S_crit."
   ]
  },
  {
   "cell_type": "code",
   "execution_count": 327,
   "metadata": {
    "collapsed": false
   },
   "outputs": [
    {
     "data": {
      "text/plain": [
       "<matplotlib.text.Text at 0x11a518940>"
      ]
     },
     "execution_count": 327,
     "metadata": {},
     "output_type": "execute_result"
    },
    {
     "data": {
      "image/png": "[encoded data removed]",
      "text/plain": [
       "<matplotlib.figure.Figure at 0x11a2e1320>"
      ]
     },
     "metadata": {},
     "output_type": "display_data"
    }
   ],
   "source": [
    "integral_sum = np.empty_like(ndist)\n",
    "\n",
    "integral_range = np.arange(0, len(integral_sum), 1)\n",
    "\n",
    "for i in integral_range:\n",
    "    new_rad_vals = rad_vals[i:-1]\n",
    "    new_ndist = ndist[i:-1]\n",
    "    ncenter = (new_ndist[1:] + new_ndist[:-1])/2.\n",
    "    integral_sum[i] = np.sum(ncenter*np.diff(new_rad_vals)*1.e-6)\n",
    "   \n",
    "values = zip(S_star_vals[::-1], integral_sum[::-1])\n",
    "\n",
    "plt.plot(*zip(*values))\n",
    "plt.xlim(0., 1.5)\n",
    "plt.ylabel('N(r): Activated aerosol particles (#/cc)')\n",
    "plt.xlabel('S* as supersaturation: \\n (% above saturation)')\n",
    "plt.title('Number distribution of activated \\n aerosol particles, as a function of supersaturation \\n note: total n = 57.57')"
   ]
  },
  {
   "cell_type": "markdown",
   "metadata": {},
   "source": [
    "#### As supersaturation is increased in the cloud chamber the range of particle sizes that can be actived increases until we go past the optimum S* that allows the fastest rate of activation, and we start to run out of particles to activate. \n",
    "\n",
    "### This graph keeps going to 5% superstauration and 57.57 particles, but the greatest rates of change are seen from 0. to approx 1.5%"
   ]
  },
  {
   "cell_type": "code",
   "execution_count": null,
   "metadata": {
    "collapsed": true
   },
   "outputs": [],
   "source": []
  }
 ],
 "metadata": {
  "kernelspec": {
   "display_name": "Python 3",
   "language": "python",
   "name": "python3"
  },
  "language_info": {
   "codemirror_mode": {
    "name": "ipython",
    "version": 3
   },
   "file_extension": ".py",
   "mimetype": "text/x-python",
   "name": "python",
   "nbconvert_exporter": "python",
   "pygments_lexer": "ipython3",
   "version": "3.5.1"
  }
 },
 "nbformat": 4,
 "nbformat_minor": 0
}
