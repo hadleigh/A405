{
 "cells": [
  {
   "cell_type": "markdown",
   "metadata": {},
   "source": [
    "### This notebook uses some new library functions in the a405dropgrow package to find equilibrium drop sizes"
   ]
  },
  {
   "cell_type": "code",
   "execution_count": 8,
   "metadata": {
    "collapsed": false
   },
   "outputs": [],
   "source": [
    "import a405dropgrow.aerolib\n",
    "from importlib import reload\n",
    "reload(a405dropgrow.aerolib)\n",
    "#\n",
    "# new library for aerosol functions\n",
    "#\n",
    "from a405dropgrow.aerolib import lognormal,create_koehler,find_koehler_coeffs\n",
    "import numpy as np\n",
    "import a405utils.helper_funs\n",
    "reload(a405utils.helper_funs)\n",
    "from a405utils.helper_funs import make_tuple, find_centers\n",
    "from a405thermo.rootfinder import find_interval, fzero\n",
    "import ruamel.yaml as ry  #need to pip install ruamel.yaml\n",
    "import pprint\n",
    "pp = pprint.PrettyPrinter(indent=4)\n",
    "#\n",
    "# find the path to the data folder.  We know it's\n",
    "# at the same level as a405utils, so construct\n",
    "# the path relative to the location of the a405utils folder\n",
    "#\n",
    "from pathlib import Path\n",
    "util_dir, = a405utils.__path__._path\n",
    "data_dir = Path(util_dir).joinpath('../data')"
   ]
  },
  {
   "cell_type": "markdown",
   "metadata": {},
   "source": [
    "### Read in the inital conditions\n",
    "\n",
    "Use the [yaml](https://en.wikipedia.org/wiki/YAML) file format to specify\n",
    "aerosol properties and initial conditions as a nested dictionary with\n",
    "comments"
   ]
  },
  {
   "cell_type": "code",
   "execution_count": 9,
   "metadata": {
    "collapsed": false
   },
   "outputs": [
    {
     "name": "stdout",
     "output_type": "stream",
     "text": [
      "CommentedOrderedMap([   (   'initial_conditions',\n",
      "                            CommentedOrderedMap([   ('Tinit', 280.0),\n",
      "                                                    ('Zinit', 1000.0),\n",
      "                                                    ('Pinit', 90000.0),\n",
      "                                                    ('Sinit', 0.995),\n",
      "                                                    ('wvel', 0.5)])),\n",
      "                        (   'aerosol',\n",
      "                            CommentedOrderedMap([   ('Ms', 114),\n",
      "                                                    ('Mw', 18.0),\n",
      "                                                    ('Sigma', 0.075),\n",
      "                                                    ('vanHoff', 2.0),\n",
      "                                                    ('rhoaero', 1775),\n",
      "                                                    ('themean', 2e-17),\n",
      "                                                    ('sd', 1.7),\n",
      "                                                    ('totmass', 1.5e-09)]))])\n"
     ]
    }
   ],
   "source": [
    "yaml_file = data_dir.joinpath('dropgrow.yaml')\n",
    "with yaml_file.open('r') as f:\n",
    "    input_dict=ry.load(f,Loader=ry.RoundTripLoader)\n",
    "pp.pprint(input_dict)"
   ]
  },
  {
   "cell_type": "markdown",
   "metadata": {},
   "source": [
    "### Calculate the lognormal aerosol mass distribution and get the number concentration in each of 30 bins\n",
    "\n",
    "(code borrowed from aero.ipynb)"
   ]
  },
  {
   "cell_type": "code",
   "execution_count": 10,
   "metadata": {
    "collapsed": true
   },
   "outputs": [],
   "source": [
    "mass_vals = np.linspace(-20,-16,30)\n",
    "mass_vals = 10**mass_vals\n",
    "mu=input_dict['aerosol']['themean']\n",
    "sigma = input_dict['aerosol']['sd']\n",
    "totmass = input_dict['aerosol']['totmass']\n",
    "mdist = totmass*lognormal(mass_vals,np.log(mu),np.log(sigma))\n",
    "mdist = find_centers(mdist)*np.diff(mass_vals)\n",
    "center_mass = find_centers(mass_vals)\n",
    "ndist = mdist/center_mass"
   ]
  },
  {
   "cell_type": "markdown",
   "metadata": {},
   "source": [
    "### Find the equilibrium radius for each of the 30 aerosol masses\n",
    "\n",
    "(code borrowed from koehler.ipynb)"
   ]
  },
  {
   "cell_type": "markdown",
   "metadata": {},
   "source": [
    "### Python note -- using function factories (\"closures\")\n",
    "\n",
    "A closure is a function object that remembers values in its  \"enclosing scope\" \n",
    "(see e.g [this article](http://www.shutupandship.com/2012/01/python-closures-explained.html)).  For example, instead of\n",
    "writing:\n",
    "\n",
    "```python\n",
    "my_string = \"{:8.3g}\".format(value)\n",
    "```\n",
    "    \n",
    "every time we wanted to format a floating point number, we could do something like this:"
   ]
  },
  {
   "cell_type": "code",
   "execution_count": 11,
   "metadata": {
    "collapsed": false
   },
   "outputs": [
    {
     "name": "stdout",
     "output_type": "stream",
     "text": [
      "debugging 10 1.55e-23\n"
     ]
    }
   ],
   "source": [
    "def make_format(format_string=\"{:8.3g}\"):\n",
    "    \"\"\"\n",
    "    returns a function that formats with format_string\n",
    "    \"\"\"\n",
    "    def inner_fun(value):\n",
    "        return format_string.format(value)\n",
    "    return inner_fun\n",
    "\n",
    "#Now get closures from make_format and use it:\n",
    "\n",
    "g = make_format()\n",
    "info = make_format(format_string=\"debugging {}\")\n",
    "\n",
    "a=10\n",
    "b=1.546e-23\n",
    "print(info(a), g(b))\n"
   ]
  },
  {
   "cell_type": "markdown",
   "metadata": {},
   "source": [
    "### Calculating the equilibrium size distribution for unactivated aerosols\n",
    "\n",
    "Below we use "
   ]
  },
  {
   "cell_type": "code",
   "execution_count": 12,
   "metadata": {
    "collapsed": false
   },
   "outputs": [
    {
     "name": "stdout",
     "output_type": "stream",
     "text": [
      "for aerosol with mass = 1e-18 kg, SScrit,rcrit are  0.00175,    0.441 microns\n"
     ]
    }
   ],
   "source": [
    "aero=make_tuple(input_dict['aerosol'])\n",
    "parcel=make_tuple(input_dict['initial_conditions'])\n",
    "\n",
    "a, b = find_koehler_coeffs(aero,parcel)\n",
    "\n",
    "#\n",
    "# sanity check\n",
    "#\n",
    "m=1.e-18\n",
    "Scrit=(4.*a**3./(27.*b*m))**0.5;\n",
    "rcrit = (3.*m*b/a)**0.5\n",
    "print((\"for aerosol with mass = {} kg, \"\n",
    "       \"SScrit,rcrit are {:8.3g}, {:8.3g} microns\")\n",
    "        .format(m,Scrit,rcrit*1.e6))\n"
   ]
  },
  {
   "cell_type": "code",
   "execution_count": 13,
   "metadata": {
    "collapsed": false
   },
   "outputs": [
    {
     "name": "stdout",
     "output_type": "stream",
     "text": [
      "mass = 1.19e-20 kg\n",
      "left bracket = 9.490e-03 microns\n",
      "right bracket=1.905e-01 microns\n",
      "critical supersaturation: 0.0161\n",
      "equlibrium radius at S=0.995 is 0.026 microns\n",
      "\n",
      "mass = 1.63e-20 kg\n",
      "left bracket = 9.490e-03 microns\n",
      "right bracket=1.905e-01 microns\n",
      "critical supersaturation: 0.0137\n",
      "equlibrium radius at S=0.995 is 0.030 microns\n",
      "\n",
      "mass = 2.24e-20 kg\n",
      "left bracket = 9.490e-03 microns\n",
      "right bracket=1.905e-01 microns\n",
      "critical supersaturation: 0.0117\n",
      "equlibrium radius at S=0.995 is 0.035 microns\n",
      "\n",
      "mass = 3.08e-20 kg\n",
      "left bracket = 3.600e-02 microns\n",
      "right bracket=1.640e-01 microns\n",
      "critical supersaturation: 0.00999\n",
      "equlibrium radius at S=0.995 is 0.041 microns\n",
      "\n",
      "mass = 4.23e-20 kg\n",
      "left bracket = 3.600e-02 microns\n",
      "right bracket=1.640e-01 microns\n",
      "critical supersaturation: 0.00853\n",
      "equlibrium radius at S=0.995 is 0.047 microns\n",
      "\n",
      "mass = 5.81e-20 kg\n",
      "left bracket = 5.475e-02 microns\n",
      "right bracket=1.453e-01 microns\n",
      "critical supersaturation: 0.00727\n",
      "equlibrium radius at S=0.995 is 0.055 microns\n",
      "\n",
      "mass = 7.98e-20 kg\n",
      "left bracket = 5.475e-02 microns\n",
      "right bracket=1.453e-01 microns\n",
      "critical supersaturation: 0.00621\n",
      "equlibrium radius at S=0.995 is 0.063 microns\n",
      "\n",
      "mass = 1.1e-19 kg\n",
      "left bracket = 6.800e-02 microns\n",
      "right bracket=1.320e-01 microns\n",
      "critical supersaturation: 0.0053\n",
      "equlibrium radius at S=0.995 is 0.073 microns\n",
      "\n",
      "mass = 1.51e-19 kg\n",
      "left bracket = 8.400e-02 microns\n",
      "right bracket=1.160e-01 microns\n",
      "critical supersaturation: 0.00452\n",
      "equlibrium radius at S=0.995 is 0.084 microns\n",
      "\n",
      "mass = 2.07e-19 kg\n",
      "left bracket = 9.600e-02 microns\n",
      "right bracket=1.040e-01 microns\n",
      "critical supersaturation: 0.00385\n",
      "equlibrium radius at S=0.995 is 0.097 microns\n",
      "\n",
      "mass = 2.84e-19 kg\n",
      "left bracket = 8.869e-02 microns\n",
      "right bracket=1.113e-01 microns\n",
      "critical supersaturation: 0.00329\n",
      "equlibrium radius at S=0.995 is 0.111 microns\n",
      "\n",
      "mass = 3.91e-19 kg\n",
      "left bracket = 6.800e-02 microns\n",
      "right bracket=1.320e-01 microns\n",
      "critical supersaturation: 0.00281\n",
      "equlibrium radius at S=0.995 is 0.127 microns\n",
      "\n",
      "mass = 5.37e-19 kg\n",
      "left bracket = 3.600e-02 microns\n",
      "right bracket=1.640e-01 microns\n",
      "critical supersaturation: 0.00239\n",
      "equlibrium radius at S=0.995 is 0.146 microns\n",
      "\n",
      "mass = 7.37e-19 kg\n",
      "left bracket = 9.490e-03 microns\n",
      "right bracket=1.905e-01 microns\n",
      "critical supersaturation: 0.00204\n",
      "equlibrium radius at S=0.995 is 0.166 microns\n",
      "\n",
      "mass = 1.01e-18 kg\n",
      "left bracket = 9.490e-03 microns\n",
      "right bracket=1.905e-01 microns\n",
      "critical supersaturation: 0.00174\n",
      "equlibrium radius at S=0.995 is 0.190 microns\n",
      "\n",
      "mass = 1.39e-18 kg\n",
      "left bracket = -2.800e-02 microns\n",
      "right bracket=2.280e-01 microns\n",
      "critical supersaturation: 0.00149\n",
      "equlibrium radius at S=0.995 is 0.216 microns\n",
      "\n",
      "mass = 1.91e-18 kg\n",
      "left bracket = -8.102e-02 microns\n",
      "right bracket=2.810e-01 microns\n",
      "critical supersaturation: 0.00127\n",
      "equlibrium radius at S=0.995 is 0.245 microns\n",
      "\n",
      "mass = 2.63e-18 kg\n",
      "left bracket = -8.102e-02 microns\n",
      "right bracket=2.810e-01 microns\n",
      "critical supersaturation: 0.00108\n",
      "equlibrium radius at S=0.995 is 0.278 microns\n",
      "\n",
      "mass = 3.61e-18 kg\n",
      "left bracket = -1.560e-01 microns\n",
      "right bracket=3.560e-01 microns\n",
      "critical supersaturation: 0.000923\n",
      "equlibrium radius at S=0.995 is 0.315 microns\n",
      "\n",
      "mass = 4.96e-18 kg\n",
      "left bracket = -1.560e-01 microns\n",
      "right bracket=3.560e-01 microns\n",
      "critical supersaturation: 0.000788\n",
      "equlibrium radius at S=0.995 is 0.356 microns\n",
      "\n",
      "mass = 6.81e-18 kg\n",
      "left bracket = -2.620e-01 microns\n",
      "right bracket=4.620e-01 microns\n",
      "critical supersaturation: 0.000672\n",
      "equlibrium radius at S=0.995 is 0.401 microns\n",
      "\n",
      "mass = 9.35e-18 kg\n",
      "left bracket = -2.620e-01 microns\n",
      "right bracket=4.620e-01 microns\n",
      "critical supersaturation: 0.000573\n",
      "equlibrium radius at S=0.995 is 0.453 microns\n",
      "\n",
      "mass = 1.28e-17 kg\n",
      "left bracket = -4.120e-01 microns\n",
      "right bracket=6.120e-01 microns\n",
      "critical supersaturation: 0.000489\n",
      "equlibrium radius at S=0.995 is 0.510 microns\n",
      "\n",
      "mass = 1.77e-17 kg\n",
      "left bracket = -4.120e-01 microns\n",
      "right bracket=6.120e-01 microns\n",
      "critical supersaturation: 0.000417\n",
      "equlibrium radius at S=0.995 is 0.573 microns\n",
      "\n",
      "mass = 2.43e-17 kg\n",
      "left bracket = -6.241e-01 microns\n",
      "right bracket=8.241e-01 microns\n",
      "critical supersaturation: 0.000356\n",
      "equlibrium radius at S=0.995 is 0.644 microns\n",
      "\n",
      "mass = 3.33e-17 kg\n",
      "left bracket = -6.241e-01 microns\n",
      "right bracket=8.241e-01 microns\n",
      "critical supersaturation: 0.000304\n",
      "equlibrium radius at S=0.995 is 0.723 microns\n",
      "\n",
      "mass = 4.58e-17 kg\n",
      "left bracket = -6.241e-01 microns\n",
      "right bracket=8.241e-01 microns\n",
      "critical supersaturation: 0.000259\n",
      "equlibrium radius at S=0.995 is 0.811 microns\n",
      "\n",
      "mass = 6.29e-17 kg\n",
      "left bracket = -9.240e-01 microns\n",
      "right bracket=1.124e+00 microns\n",
      "critical supersaturation: 0.000221\n",
      "equlibrium radius at S=0.995 is 0.909 microns\n",
      "\n",
      "mass = 8.64e-17 kg\n",
      "left bracket = -9.240e-01 microns\n",
      "right bracket=1.124e+00 microns\n",
      "critical supersaturation: 0.000189\n",
      "equlibrium radius at S=0.995 is 1.018 microns\n",
      "\n"
     ]
    }
   ],
   "source": [
    "koehler_fun = create_koehler(aero,parcel)\n",
    "\n",
    "def find_diff(r,S_target,m):\n",
    "    \"\"\"\n",
    "    zero function for rootfinder\n",
    "    \"\"\"\n",
    "    return S_target - koehler_fun(r,m)\n",
    "\n",
    "S_target = parcel.Sinit\n",
    "r_start = 0.1e-6\n",
    "\n",
    "initial_radius = []\n",
    "for mass in center_mass:\n",
    "    brackets = np.array(find_interval(find_diff,r_start,S_target,mass))\n",
    "    left_bracket, right_bracket = brackets*1.e6  #get brackets in microns for printing\n",
    "    equil_rad = fzero(find_diff,brackets,S_target,mass)\n",
    "    \n",
    "    Scrit=(4.*a**3./(27.*b*mass))**0.5\n",
    "    \n",
    "    initial_radius.append(equil_rad)\n",
    "    print(('mass = {mass:6.3g} kg\\n'\n",
    "           'left bracket = {left_bracket:8.3e} microns\\n'\n",
    "           'right bracket={right_bracket:8.3e} microns\\n'\n",
    "           'critical supersaturation: {Scrit:6.3g}')\n",
    "           .format_map(locals()))\n",
    "    print('equlibrium radius at S={} is {:5.3f} microns\\n'.format(S_target,equil_rad*1.e6))\n",
    "   \n"
   ]
  },
  {
   "cell_type": "markdown",
   "metadata": {
    "collapsed": true
   },
   "source": [
    "### For March 11th:\n",
    "    \n",
    "    \n",
    "Hand in a notebook that adds the following plots to dropgrowA.ipynb:\n",
    "\n",
    "- A plot of the ratio ns/nw as a function of equilibrium radius for the 30 aerosols in the mass distribution. Do this twice, once assuming that:\n",
    "\n",
    "$$n_w = \\frac{4}{3} \\pi r^3 \\rho_l$$\n",
    "\n",
    "as a function of equilibrium radius for the 30 aerosols in the mass distribution. Do this twice, once assuming that\n",
    "nw=4/3πr3ρl\n",
    "\n",
    "(i.e. that the solution is so dilute that you can neglect the aerosol’s contribution to the volume of the drop.\n",
    "\n",
    "- Repeat making an exact calculation for $nw$\n",
    "– i.e. find the part of the volume that is due to the aerosol (just its mass/(aerosol density)) and subtract that off from the drop volume before calculating $nw$"
   ]
  },
  {
   "cell_type": "markdown",
   "metadata": {},
   "source": [
    "### Hadleighs Solution:"
   ]
  },
  {
   "cell_type": "code",
   "execution_count": 86,
   "metadata": {
    "collapsed": false
   },
   "outputs": [
    {
     "name": "stdout",
     "output_type": "stream",
     "text": [
      "Number of aerosols: 29 \n",
      "\n",
      "Radius distribution (microns): \n",
      " [2.599903507330977e-08, 3.02723650050611e-08, 3.520058838838024e-08, 4.087391093131589e-08, 4.73918969924051e-08, 5.486476122364395e-08, 6.341388139527487e-08, 7.317269246271005e-08, 8.428745660788037e-08, 9.691906861296011e-08, 1.1124345584036265e-07, 1.2745363264571594e-07, 1.4576141012687464e-07, 1.6639963055634552e-07, 1.8962467973341968e-07, 2.1571900462524207e-07, 2.449949846353699e-07, 2.7779805178672694e-07, 3.1451072806306427e-07, 3.5555774223438567e-07, 4.014093839606516e-07, 4.5259002706477234e-07, 5.096807890459834e-07, 5.733285057390022e-07, 6.442524212508387e-07, 7.232523847574027e-07, 8.112183969809304e-07, 9.091401791108249e-07, 1.0181179877456357e-06]\n",
      "Mass distibution (kg): \n",
      " [  1.18691190e-20   1.63060781e-20   2.24016781e-20   3.07759584e-20\n",
      "   4.22807440e-20   5.80862923e-20   7.98003305e-20   1.09631593e-19\n",
      "   1.50614491e-19   2.06917772e-19   2.84268559e-19   3.90534911e-19\n",
      "   5.36526154e-19   7.37092397e-19   1.01263507e-18   1.39118216e-18\n",
      "   1.91123916e-18   2.62570584e-18   3.60725716e-18   4.95573572e-18\n",
      "   6.80830766e-18   9.35341508e-18   1.28499442e-17   1.76535591e-17\n",
      "   2.42528796e-17   3.33191831e-17   4.57746866e-17   6.28863538e-17\n",
      "   8.63947692e-17]\n",
      "Number of moles of water per areosol: \n",
      " [0.00010890450344897779, 0.00012680458600891826, 0.00014744787984396473, 0.00017121223774040737, 0.0001985147139080321, 0.00022981697440154397, 0.00026562744523601326, 0.0003065050574456468, 0.00035306247262544726, 0.00040597364526298737, 0.00046597549817069847, 0.0005338765279908178, 0.0006105639669753044, 0.0006970131425544944, 0.0007942980010531048, 0.000903601653560484, 0.0010262325918624297, 0.0011636377582329841, 0.0013174194570107997, 0.001489356787907359, 0.0016814196956437166, 0.0018958046721529258, 0.0021349458967236134, 0.0024015528289643502, 0.0026986382315454284, 0.0030295525048602058, 0.003398023675216239, 0.003808197477037168, 0.004264682654385749]\n"
     ]
    },
    {
     "data": {
      "text/plain": [
       "\"\\n%matplotlib inline\\nplt.plot([(rad*1.e6)for rad in rad_dist], nw_dist)\\nplt.xlabel('Aerosol Radius (microns)')\\nplt.ylabel('nw mass (kg)')\\n\""
      ]
     },
     "execution_count": 86,
     "metadata": {},
     "output_type": "execute_result"
    }
   ],
   "source": [
    "rad_dist = initial_radius\n",
    "print('Number of aerosols: %.f \\n' %(len(initial_radius)))\n",
    "print('Radius distribution (microns): \\n', rad_dist)\n",
    "\n",
    "mass_dist = center_mass\n",
    "print('Mass distibution (kg): \\n', mass_dist)\n",
    "\n",
    "nw_dist = [(4./3. * np.pi * (rad) * 1000) for rad in rad_dist]\n",
    "print('Number of moles of water per areosol: \\n', nw_dist)\n",
    "#ns_dist = \n",
    "\n",
    "ns_dist = \n",
    "\"\"\"\n",
    "%matplotlib inline\n",
    "plt.plot([(rad*1.e6)for rad in rad_dist], nw_dist)\n",
    "plt.xlabel('Aerosol Radius (microns)')\n",
    "plt.ylabel('nw mass (kg)')\n",
    "\"\"\""
   ]
  },
  {
   "cell_type": "code",
   "execution_count": null,
   "metadata": {
    "collapsed": true
   },
   "outputs": [],
   "source": []
  },
  {
   "cell_type": "code",
   "execution_count": null,
   "metadata": {
    "collapsed": true
   },
   "outputs": [],
   "source": []
  }
 ],
 "metadata": {
  "kernelspec": {
   "display_name": "Python 3",
   "language": "python",
   "name": "python3"
  },
  "language_info": {
   "codemirror_mode": {
    "name": "ipython",
    "version": 3
   },
   "file_extension": ".py",
   "mimetype": "text/x-python",
   "name": "python",
   "nbconvert_exporter": "python",
   "pygments_lexer": "ipython3",
   "version": "3.5.1"
  }
 },
 "nbformat": 4,
 "nbformat_minor": 0
}
