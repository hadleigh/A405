{
 "cells": [
  {
   "cell_type": "markdown",
   "metadata": {},
   "source": [
    "# A405 final problem\n",
    "\n",
    "The cells below read in pres (hPa), hght (m), temp (C), dwpt (C) stored as a dataframe\n",
    "in final_sounding.h5 dataframe \n",
    "\n",
    "For each question, insert a cell or cells that answers the question.  You are free to use any code in the github master branch, but double check before you hand in your notebook that it runs on a clean checkout of the\n",
    "master branch (i.e. that you've included all your own code).\n",
    "\n",
    "Hand in via email  (which may not work if the attachment is too big), or by sharing a dropbox-like url.\n",
    "\n",
    "Due on Wednesday, April 20 at 9am.\n",
    "\n",
    "Good luck, and don't hesitate to ask if anything is unclear.\n"
   ]
  },
  {
   "cell_type": "code",
   "execution_count": 151,
   "metadata": {
    "collapsed": false
   },
   "outputs": [
    {
     "name": "stdout",
     "output_type": "stream",
     "text": [
      "    pres   hght  temp  dwpt\n",
      "0  991.0  172.0  23.2  19.2\n",
      "1  988.0  198.0  22.8  18.8\n",
      "2  941.6  610.0  19.0  15.0\n",
      "3  925.0  762.0  17.6  13.6\n",
      "4  908.5  914.0  16.3  13.3\n"
     ]
    }
   ],
   "source": [
    "import numpy as np\n",
    "import pandas as pd\n",
    "import pandas\n",
    "from matplotlib import pyplot as plt\n",
    "plt.style.use('ggplot')\n",
    "from importlib import reload\n",
    "reload(pd)\n",
    "reload(pandas)\n",
    "import h5py\n",
    "import soundings\n",
    "from pathlib import Path\n",
    "from a405thermo.thermlib import find_thetaet, find_rsat, tinvert_thetae\n",
    "from a405thermo.constants import constants as c\n",
    "site = 'final_sounding.h5'\n",
    "sounding_file = str(Path(soundings.__path__[0]) / site)\n",
    "sounding_file\n",
    "with pd.HDFStore(sounding_file) as store:\n",
    "    for key in store:\n",
    "        df_sounding=store[key]\n",
    "\n",
    "print(df_sounding.head())"
   ]
  },
  {
   "cell_type": "markdown",
   "metadata": {},
   "source": [
    "# Problem 1\n",
    "\n",
    "make a 2 column  plot of the temperature and dewpoint as a function height for\n",
    "the bottom 8000 meters of the sounding"
   ]
  },
  {
   "cell_type": "code",
   "execution_count": 152,
   "metadata": {
    "collapsed": false
   },
   "outputs": [
    {
     "data": {
      "text/plain": [
       "(0.0, 8000.0)"
      ]
     },
     "execution_count": 152,
     "metadata": {},
     "output_type": "execute_result"
    },
    {
     "data": {
      "image/png": "[encoded data removed]",
      "text/plain": [
       "<matplotlib.figure.Figure at 0x123edc7f0>"
      ]
     },
     "metadata": {},
     "output_type": "display_data"
    }
   ],
   "source": [
    "indexes = df_sounding['hght']<= 9000.\n",
    "truncated_df = df_sounding[indexes]\n",
    "\n",
    "%matplotlib inline\n",
    "\n",
    "fig, (ax1,ax2) = plt.subplots(1,2,figsize=(10,8))\n",
    "ax1.plot(truncated_df['temp'], truncated_df['hght'], 'r')\n",
    "ax2.plot(truncated_df['dwpt'], truncated_df['hght'], 'b')\n",
    "ax1.set_ylabel('Height $(m)$')\n",
    "ax1.set_xlabel('Temperature $(^oC)$')\n",
    "ax2.set_xlabel('Dewpoint $(^oC)$')\n",
    "\n",
    "ax1.set_ylim(0., 8000.)\n",
    "ax2.set_ylim(0., 8000.)"
   ]
  },
  {
   "cell_type": "markdown",
   "metadata": {},
   "source": [
    "# Problem 2\n",
    "\n",
    "redraw your problem 1 figure, adding the moist adiabat for the lowest point (172 meters) "
   ]
  },
  {
   "cell_type": "code",
   "execution_count": 153,
   "metadata": {
    "collapsed": false
   },
   "outputs": [
    {
     "name": "stdout",
     "output_type": "stream",
     "text": [
      "pres    991.0\n",
      "hght    172.0\n",
      "temp     23.2\n",
      "dwpt     19.2\n",
      "Name: 0, dtype: float64\n"
     ]
    }
   ],
   "source": [
    "from a405thermo.thermlib import find_lcl\n",
    "from a405thermo.thermlib import find_thetaet\n",
    "\n",
    "# =========================================================================\n",
    "# since we know the index of the lowest point, we can specfic the index [0]\n",
    "# =========================================================================\n",
    "\n",
    "parcel_data = df_sounding.loc[0]\n",
    "print(parcel_data)"
   ]
  },
  {
   "cell_type": "code",
   "execution_count": 155,
   "metadata": {
    "collapsed": false
   },
   "outputs": [],
   "source": [
    "# =========================================================================\n",
    "# functions from here require switching between degC / Kelvin, and hPa / Pa\n",
    "# =========================================================================\n",
    "def CtoK(temp):\n",
    "    return temp + 273.15\n",
    "\n",
    "def KtoC(temp):\n",
    "    return temp - 273.15\n",
    "\n",
    "def hPa_to_Pa(pres):\n",
    "    return pres * 100.\n",
    "\n",
    "def Pa_to_hPa(pres):\n",
    "    return pres / 100.\n",
    "\n",
    "# ==============================================================================================\n",
    "# find lifting condensation level attributes of parcel, keep parcel data as an 'mini dataframe' \n",
    "# never know when package of parcel_data will be useful in future!\n",
    "# ==============================================================================================\n",
    "\n",
    "parcel_data['lcl_temp'], parcel_data['lcl_pres'] = find_lcl(CtoK(parcel_data.dwpt), CtoK(parcel_data.temp), \n",
    "                                                            hPa_to_Pa(parcel_data.pres))\n",
    "\n",
    "parcel_data.lcl_temp = KtoC(parcel_data.lcl_temp)\n",
    "parcel_data.lcl_pres = Pa_to_hPa(parcel_data.lcl_pres)\n",
    "\n",
    "# =====================\n",
    "# Note: at lifting condensation level rv = rT = rsat\n",
    "# =====================\n",
    "\n",
    "parcel_data['rT'] = find_rsat(CtoK(parcel_data.lcl_temp), hPa_to_Pa(parcel_data.lcl_pres))\n"
   ]
  },
  {
   "cell_type": "markdown",
   "metadata": {},
   "source": [
    "# Problem 3\n",
    "\n",
    "Write a function that takes as input the dataframe and a height, and finds rv, rl and the buoyancy at that\n",
    "height.   Use it to calculate rv, rl and the buoyancy for air from 172 meters lifted to 4 km.\n"
   ]
  },
  {
   "cell_type": "markdown",
   "metadata": {},
   "source": [
    "# Problem 4\n",
    "\n",
    "Calculate and make a plot of the virtual temperature of mixtures of adiabatic air from 172 meters and environmental air at 4 km.\n",
    "Use 20 mixtures evenly spaced between (100% cloud, 0% environment) and (0 %cloud, 100% environment).\n",
    "Plot the mixing fraction on the x axis and the virtual temperature on the y axis."
   ]
  },
  {
   "cell_type": "code",
   "execution_count": null,
   "metadata": {
    "collapsed": true
   },
   "outputs": [],
   "source": []
  }
 ],
 "metadata": {
  "kernelspec": {
   "display_name": "Python 3",
   "language": "python",
   "name": "python3"
  },
  "language_info": {
   "codemirror_mode": {
    "name": "ipython",
    "version": 3
   },
   "file_extension": ".py",
   "mimetype": "text/x-python",
   "name": "python",
   "nbconvert_exporter": "python",
   "pygments_lexer": "ipython3",
   "version": "3.5.1"
  }
 },
 "nbformat": 4,
 "nbformat_minor": 0
}
