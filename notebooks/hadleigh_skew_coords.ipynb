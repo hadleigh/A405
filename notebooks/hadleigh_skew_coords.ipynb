{
 "cells": [
  {
   "cell_type": "markdown",
   "metadata": {},
   "source": [
    "# Skew-T - ln P plot\n",
    "\n",
    "Demonstrate how to construct dry adiabats and isotherms for\n",
    "a thermodynamic diagram using the functions in\n",
    "[makeSkew.py](https://github.com/phaustin/A405/blob/master/a405skewT/makeSkew.py)"
   ]
  },
  {
   "cell_type": "code",
   "execution_count": 49,
   "metadata": {
    "collapsed": false
   },
   "outputs": [],
   "source": [
    "import numpy as np\n",
    "import pandas as pd\n",
    "import h5py\n",
    "from pprint import pformat\n",
    "import matplotlib.pyplot as plt\n",
    "from scipy import optimize as op"
   ]
  },
  {
   "cell_type": "markdown",
   "metadata": {},
   "source": [
    "### Skewed temperature coordinates\n",
    "\n",
    "If you try plotting your soundings on the conventional plot above, you'll see\n",
    "that the height-temperature dependence makes it difficult to see the temperature\n",
    "and dewpoint together.  The traditional approach is to slant the temperature\n",
    "line by a constant slope (note that this is different from rotating the line,\n",
    "because the y axis doesn't change)"
   ]
  },
  {
   "cell_type": "code",
   "execution_count": 50,
   "metadata": {
    "collapsed": true
   },
   "outputs": [],
   "source": [
    "def convertSkewToTemp(xcoord, press, skew):\n",
    "    \"\"\"\n",
    "    convertSkewToTemp(xcoord, press, skew)\n",
    "    Determines temperature from knowledge of a plotting coordinate\n",
    "    system and corresponding plot skew.\n",
    "    Parameters\n",
    "    - - - - - -\n",
    "    xcoord : int\n",
    "        X coordinate in temperature plotting coordinates.\n",
    "    press : float\n",
    "        Pressure (hPa).\n",
    "    skew : int\n",
    "        Skew of a given coordinate system.\n",
    "    Returns\n",
    "    - - - -\n",
    "    Temp : float\n",
    "        Converted temperature in degC.\n",
    "    Examples\n",
    "    - - - - -\n",
    "    >>> convertSkewToTemp(300, 8.e4, 30)\n",
    "    638.6934574096806\n",
    "    \"\"\"\n",
    "    Temp = xcoord  + skew * np.log(press);\n",
    "    return Temp\n",
    "\n",
    "def convertTempToSkew(Temp, press, skew):\n",
    "    \"\"\"\n",
    "    convertTempToSkew(Temp, press, skew)\n",
    "    Determines the transformed temperature in plotting coordinates.\n",
    "    Parameters\n",
    "    - - - - - -\n",
    "    Temp : float\n",
    "        Temperature (degC)\n",
    "    press : float\n",
    "        Pressure (hPa).\n",
    "    skew : int\n",
    "        Designated skew factor of temperature.\n",
    "    Returns\n",
    "    - - - -\n",
    "    tempOut : float\n",
    "        Converted temperature (degC).\n",
    "    Examples\n",
    "    - - - - -\n",
    "    >>> convertTempToSkew(30., 8.e4, 30)\n",
    "    -308.69345740968055\n",
    "    \"\"\"\n",
    "    tempOut = Temp - skew * np.log(press);\n",
    "    return tempOut"
   ]
  },
  {
   "cell_type": "markdown",
   "metadata": {},
   "source": [
    "### For Wednesday 9am\n",
    "\n",
    "Check in a notebook that puts your sounding on the tephigram and draws a line of constant saturation mixing ratio \n",
    "$r_s$ = 10 g/kg between 1000 and  400 hPa.  \n",
    "\n",
    "Hint -- you want to rootfind the temperature that satisfies $r_s = \\frac{e_s(T)}{p - e_s(T)} * \\epsilon = 0.01\\ g/kg, \\ where \\ \\epsilon = 0.622$, \n",
    "for a range of pressures then convert the temperatures to skew coordinates."
   ]
  },
  {
   "cell_type": "markdown",
   "metadata": {},
   "source": [
    "======================================================================================================================\n",
    "\n",
    "### Hadleigh's Solution:\n",
    "\n",
    "(Cambridge bay soundings from 2015. Note: the cold temperature regime)\n",
    "\n",
    "======================================================================================================================"
   ]
  },
  {
   "cell_type": "code",
   "execution_count": 51,
   "metadata": {
    "collapsed": false
   },
   "outputs": [
    {
     "name": "stdout",
     "output_type": "stream",
     "text": [
      "reading file: hilo.h5\n",
      "\n",
      "empty key:  TITLE\n",
      "empty key:  CLASS\n",
      "empty key:  VERSION\n",
      "empty key:  PYTABLES_FORMAT_VERSION\n"
     ]
    }
   ],
   "source": [
    "from a405skewT.makeSkew import makeSkewDry\n",
    "import a405skewT.makeSkew\n",
    "from importlib import reload\n",
    "reload(a405skewT.makeSkew)\n",
    "\n",
    "#%config InlineBackend.close_figures=False\n",
    "fig,ax =plt.subplots(1,1,figsize=(8,8))\n",
    "ax,skew = makeSkewDry(ax)\n",
    "\n",
    "filename='hilo.h5';\n",
    "print('reading file: %s\\n' %filename)\n",
    "\n",
    "attributes={}\n",
    "with h5py.File(filename,'r') as f:\n",
    "    keys=f.attrs.keys()\n",
    "    for key in keys:\n",
    "        try:\n",
    "            attributes[key]=f.attrs[key]\n",
    "        except IOError:\n",
    "            print('empty key: ',key)\n",
    "\n",
    "separator= '\\n' + '+'*30 + '\\n'\n",
    "sounding_dict={}\n",
    "with pd.HDFStore(filename,'r') as store:\n",
    "    times=store.keys()\n",
    "    for the_time in times:\n",
    "        sounding_dict[the_time]=store[the_time]\n",
    "sounding=sounding_dict[times[3]]\n",
    "title_string=attributes['header']\n",
    "index=title_string.find(' Observations at')\n",
    "location=title_string[:index]\n",
    "title='{} at {}'.format(location,times[0][2:])\n",
    "units=attributes['units'].split(';')\n",
    "units_dict={}\n",
    "for count,var in enumerate(sounding.columns):\n",
    "    units_dict[var]=units[count]\n",
    "\n",
    "triplets=zip(sounding['temp'],sounding['dwpt'],sounding['pres'])\n",
    "xcoord_T=[]\n",
    "xcoord_Td=[]\n",
    "for a_temp,a_dew,a_pres in triplets:\n",
    "    xcoord_T.append(convertTempToSkew(a_temp,a_pres,skew))\n",
    "    xcoord_Td.append(convertTempToSkew(a_dew,a_pres,skew))\n",
    "ax.plot(xcoord_T,sounding['pres'],color='k',label='temp')\n",
    "ax.plot(xcoord_Td,sounding['pres'],color='g',label='dew')\n",
    "\n",
    "[line.set(linewidth=3) for line in ax.lines[-2:]]\n",
    "ax.set(title=title)\n",
    "ax.set(ylim=[1000,400])\n",
    "fig.canvas.draw()\n"
   ]
  },
  {
   "cell_type": "markdown",
   "metadata": {},
   "source": [
    "#### Then take the above plot and add a saturation vapout pressure isohume..."
   ]
  },
  {
   "cell_type": "markdown",
   "metadata": {
    "collapsed": true
   },
   "source": [
    "$r_s = \\frac{e_s(T)}{p - e_s(T)} * \\epsilon = 0.01\\ g/kg, \\ where \\ \\epsilon = 0.622$, "
   ]
  },
  {
   "cell_type": "code",
   "execution_count": 52,
   "metadata": {
    "collapsed": false
   },
   "outputs": [
    {
     "ename": "ValueError",
     "evalue": "f(a) and f(b) must have different signs",
     "output_type": "error",
     "traceback": [
      "\u001b[0;31m---------------------------------------------------------------------------\u001b[0m",
      "\u001b[0;31mValueError\u001b[0m                                Traceback (most recent call last)",
      "\u001b[0;32m<ipython-input-52-6aa6a5ae11f1>\u001b[0m in \u001b[0;36m<module>\u001b[0;34m()\u001b[0m\n\u001b[1;32m     26\u001b[0m \u001b[0;31m#pressure_list = np.arange(1000, 390, -10)\u001b[0m\u001b[0;34m\u001b[0m\u001b[0;34m\u001b[0m\u001b[0m\n\u001b[1;32m     27\u001b[0m \u001b[0;34m\u001b[0m\u001b[0m\n\u001b[0;32m---> 28\u001b[0;31m \u001b[0mtemp\u001b[0m \u001b[0;34m=\u001b[0m \u001b[0mfind_temps\u001b[0m\u001b[0;34m(\u001b[0m\u001b[0;36m900\u001b[0m\u001b[0;34m)\u001b[0m\u001b[0;34m\u001b[0m\u001b[0m\n\u001b[0m\u001b[1;32m     29\u001b[0m \u001b[0;34m\u001b[0m\u001b[0m\n\u001b[1;32m     30\u001b[0m \u001b[0mprint\u001b[0m\u001b[0;34m(\u001b[0m\u001b[0mtemp\u001b[0m\u001b[0;34m)\u001b[0m\u001b[0;34m\u001b[0m\u001b[0m\n",
      "\u001b[0;32m<ipython-input-52-6aa6a5ae11f1>\u001b[0m in \u001b[0;36mfind_temps\u001b[0;34m(Press)\u001b[0m\n\u001b[1;32m     21\u001b[0m     \u001b[0mfinds\u001b[0m \u001b[0mthe\u001b[0m \u001b[0mroots\u001b[0m \u001b[0mof\u001b[0m \u001b[0mfind_rs\u001b[0m\u001b[0;34m\u001b[0m\u001b[0m\n\u001b[1;32m     22\u001b[0m     \"\"\"\n\u001b[0;32m---> 23\u001b[0;31m     \u001b[0mop\u001b[0m\u001b[0;34m.\u001b[0m\u001b[0mzeros\u001b[0m\u001b[0;34m.\u001b[0m\u001b[0mbrentq\u001b[0m\u001b[0;34m(\u001b[0m\u001b[0mfind_rs\u001b[0m\u001b[0;34m,\u001b[0m \u001b[0;34m-\u001b[0m\u001b[0;36m30\u001b[0m\u001b[0;34m,\u001b[0m \u001b[0;36m40\u001b[0m\u001b[0;34m,\u001b[0m \u001b[0margs\u001b[0m\u001b[0;34m=\u001b[0m\u001b[0;34m(\u001b[0m\u001b[0mPress\u001b[0m\u001b[0;34m)\u001b[0m\u001b[0;34m)\u001b[0m\u001b[0;34m\u001b[0m\u001b[0m\n\u001b[0m\u001b[1;32m     24\u001b[0m     \u001b[0;32mreturn\u001b[0m \u001b[0mTemp\u001b[0m\u001b[0;34m\u001b[0m\u001b[0m\n\u001b[1;32m     25\u001b[0m \u001b[0;34m\u001b[0m\u001b[0m\n",
      "\u001b[0;32m/Users/hadleighs/anaconda/lib/python3.5/site-packages/scipy/optimize/zeros.py\u001b[0m in \u001b[0;36mbrentq\u001b[0;34m(f, a, b, args, xtol, rtol, maxiter, full_output, disp)\u001b[0m\n\u001b[1;32m    427\u001b[0m     \u001b[0;32mif\u001b[0m \u001b[0mrtol\u001b[0m \u001b[0;34m<\u001b[0m \u001b[0m_rtol\u001b[0m\u001b[0;34m:\u001b[0m\u001b[0;34m\u001b[0m\u001b[0m\n\u001b[1;32m    428\u001b[0m         \u001b[0;32mraise\u001b[0m \u001b[0mValueError\u001b[0m\u001b[0;34m(\u001b[0m\u001b[0;34m\"rtol too small (%g < %g)\"\u001b[0m \u001b[0;34m%\u001b[0m \u001b[0;34m(\u001b[0m\u001b[0mrtol\u001b[0m\u001b[0;34m,\u001b[0m \u001b[0m_rtol\u001b[0m\u001b[0;34m)\u001b[0m\u001b[0;34m)\u001b[0m\u001b[0;34m\u001b[0m\u001b[0m\n\u001b[0;32m--> 429\u001b[0;31m     \u001b[0mr\u001b[0m \u001b[0;34m=\u001b[0m \u001b[0m_zeros\u001b[0m\u001b[0;34m.\u001b[0m\u001b[0m_brentq\u001b[0m\u001b[0;34m(\u001b[0m\u001b[0mf\u001b[0m\u001b[0;34m,\u001b[0m\u001b[0ma\u001b[0m\u001b[0;34m,\u001b[0m\u001b[0mb\u001b[0m\u001b[0;34m,\u001b[0m\u001b[0mxtol\u001b[0m\u001b[0;34m,\u001b[0m\u001b[0mrtol\u001b[0m\u001b[0;34m,\u001b[0m\u001b[0mmaxiter\u001b[0m\u001b[0;34m,\u001b[0m\u001b[0margs\u001b[0m\u001b[0;34m,\u001b[0m\u001b[0mfull_output\u001b[0m\u001b[0;34m,\u001b[0m\u001b[0mdisp\u001b[0m\u001b[0;34m)\u001b[0m\u001b[0;34m\u001b[0m\u001b[0m\n\u001b[0m\u001b[1;32m    430\u001b[0m     \u001b[0;32mreturn\u001b[0m \u001b[0mresults_c\u001b[0m\u001b[0;34m(\u001b[0m\u001b[0mfull_output\u001b[0m\u001b[0;34m,\u001b[0m \u001b[0mr\u001b[0m\u001b[0;34m)\u001b[0m\u001b[0;34m\u001b[0m\u001b[0m\n\u001b[1;32m    431\u001b[0m \u001b[0;34m\u001b[0m\u001b[0m\n",
      "\u001b[0;31mValueError\u001b[0m: f(a) and f(b) must have different signs"
     ]
    }
   ],
   "source": [
    "\n",
    "def find_rs(Temp, Press):\n",
    "    \"\"\"\n",
    "    function we want the root of\n",
    "    should be zero when the temp is correct for rs at a given pressure\n",
    "    \"\"\"\n",
    "    Temp = Temp + 273.15\n",
    "    Press = Press * 100\n",
    "    epsilon = 0.622\n",
    "    return ((epsilon * find_es(Temp)) / (Press - find_es(Temp))) - 0.01\n",
    "            \n",
    "def find_es(Temp):\n",
    "    \"\"\"\n",
    "    helper function to get es for a given temp from thompkins eqn 2.15\n",
    "    \"\"\"\n",
    "    temp = Temp - 273.15\n",
    "    return 611.2 * np.exp((17.67 * Temp) / Temp + 243.5)\n",
    "\n",
    "def find_temps(Press):\n",
    "    \"\"\"\n",
    "    finds the roots of find_rs\n",
    "    \"\"\"\n",
    "    op.zeros.brentq(find_rs, -30, 40, args=(Press))\n",
    "    return Temp\n",
    "\n",
    "#pressure_list = np.arange(1000, 390, -10)\n",
    "\n",
    "temp = find_temps(900)\n",
    "\n",
    "print(temp)\n",
    "\n",
    "#temp_list = [find_temps(Press) for Press in pressure_list]\n",
    "\n",
    "#print(pressure_list)\n"
   ]
  },
  {
   "cell_type": "code",
   "execution_count": null,
   "metadata": {
    "collapsed": true
   },
   "outputs": [],
   "source": []
  }
 ],
 "metadata": {
  "kernelspec": {
   "display_name": "Python 3",
   "language": "python",
   "name": "python3"
  },
  "language_info": {
   "codemirror_mode": {
    "name": "ipython",
    "version": 3
   },
   "file_extension": ".py",
   "mimetype": "text/x-python",
   "name": "python",
   "nbconvert_exporter": "python",
   "pygments_lexer": "ipython3",
   "version": "3.5.1"
  }
 },
 "nbformat": 4,
 "nbformat_minor": 0
}
