{
 "cells": [
  {
   "cell_type": "markdown",
   "metadata": {},
   "source": [
    "### ATSC 405\n",
    "\n",
    "### Root finder for temperature, given potential temperature\n",
    "\n",
    "#### Hadleigh Thompson\n",
    "\n",
    "#### January 2016\n",
    "\n"
   ]
  },
  {
   "cell_type": "markdown",
   "metadata": {},
   "source": [
    "From Chapter 1. notes eqn #36 (Austin):\n",
    "\n",
    "$$\\theta  = T \\ \\frac{P_o}{P}^{(\\frac{Rd}{C_p})}$$\n",
    "\n",
    "Therefore, in a root finder context we should be looking for values of Temperature (T) that satisfy:\n",
    "\n",
    "$$T \\ \\frac{P_o}{P}^{(\\frac{Rd}{C_p})} - \\theta = 0$$"
   ]
  },
  {
   "cell_type": "markdown",
   "metadata": {},
   "source": [
    "### Function Script:"
   ]
  },
  {
   "cell_type": "code",
   "execution_count": 35,
   "metadata": {
    "collapsed": false
   },
   "outputs": [],
   "source": [
    "import numpy as np\n",
    "import matplotlib.pyplot as plt\n",
    "from scipy import optimize as op\n",
    "\n",
    "%matplotlib inline\n",
    "\n",
    "def temp_from_theta(theta,pressure):\n",
    "    \n",
    "    \"\"\"\n",
    "    float, float --> float\n",
    "    \n",
    "    theta_from_temp: solves for actual air parcel temperature given potential temperature and pressure\n",
    "    \n",
    "    in: theta = temperature, K\n",
    "        pressure = atmospheric pressure, Pa\n",
    "        \n",
    "    out: actual air temperature, K\n",
    "    \n",
    "    note: reference pressure is set to 100kPa / 10e5 Pa, see root_finder/Po\n",
    "    \n",
    "    \"\"\"\n",
    "    \n",
    "    def root_function(temp):\n",
    "        \n",
    "        \"\"\"\n",
    "        float, float --> float\n",
    "        \n",
    "        root_function: the function we want the root for\n",
    "        \n",
    "        in: theta, pressure\n",
    "        \n",
    "        out: T * ((Po/P)**(Rd/Cp)) - theta; should be zero when temp is correct\n",
    "        \"\"\"\n",
    "        T = temp\n",
    "        P = pressure  # Pa\n",
    "        Po = 1.e5     # reference pressure, Pa\n",
    "        Rd = 287.05   # gas constant for dry air, J mole^-1 K^-1\n",
    "        Cp = 1004.    # J kg^-1 K^-1\n",
    "        \n",
    "        return T * ((Po/P)**(Rd/Cp)) - theta\n",
    "    \n",
    "    temp = op.zeros.brentq(root_function,0.,theta)\n",
    "    \n",
    "    return temp"
   ]
  },
  {
   "cell_type": "markdown",
   "metadata": {},
   "source": [
    " #### I have used 0 (zero) K as lower bracket and theta as upper bracket, utalizing the fact that temperature is always equal to or less that virual temperature. \n",
    " #### That is:\n",
    "$$ T <= T_o $$"
   ]
  },
  {
   "cell_type": "markdown",
   "metadata": {},
   "source": [
    "### In-use:"
   ]
  },
  {
   "cell_type": "code",
   "execution_count": 36,
   "metadata": {
    "collapsed": false
   },
   "outputs": [
    {
     "name": "stdout",
     "output_type": "stream",
     "text": [
      "At Pressure 1e+05 Pa, Temperature = 280.00 K\n",
      "At Pressure 7e+04 Pa, Temperature = 252.85 K\n",
      "At Pressure 4e+04 Pa, Temperature = 215.47 K\n"
     ]
    },
    {
     "data": {
      "text/plain": [
       "[None, None, None]"
      ]
     },
     "execution_count": 36,
     "metadata": {},
     "output_type": "execute_result"
    }
   ],
   "source": [
    "theta = 280\n",
    "\n",
    "pressure_list = [1.e5, 7.e4, 4.e4]\n",
    "\n",
    "temp_list = [temp_from_theta(theta, pressure) for pressure in pressure_list]\n",
    "\n",
    "results = zip(pressure_list, temp_list)\n",
    "\n",
    "[print('At Pressure %.e Pa, Temperature = %2.2f K' %(p,t)) for (p,t) in (results)] "
   ]
  },
  {
   "cell_type": "code",
   "execution_count": null,
   "metadata": {
    "collapsed": true
   },
   "outputs": [],
   "source": []
  }
 ],
 "metadata": {
  "kernelspec": {
   "display_name": "Python 3",
   "language": "python",
   "name": "python3"
  },
  "language_info": {
   "codemirror_mode": {
    "name": "ipython",
    "version": 3
   },
   "file_extension": ".py",
   "mimetype": "text/x-python",
   "name": "python",
   "nbconvert_exporter": "python",
   "pygments_lexer": "ipython3",
   "version": "3.5.1"
  }
 },
 "nbformat": 4,
 "nbformat_minor": 0
}
