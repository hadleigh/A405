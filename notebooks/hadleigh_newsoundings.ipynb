{
 "cells": [
  {
   "cell_type": "markdown",
   "metadata": {},
   "source": [
    "### Retrieve soundings directly using python\n",
    "\n",
    "This notebook uses the [wyominglib](https://github.com/phaustin/A405/blob/master/soundings/wyominglib.py) module, which parses  sounding data from [U. Wyoming](http://weather.uwyo.edu/upperair/sounding.html)\n",
    "with [BeautifulSoup](http://www.crummy.com/software/BeautifulSoup/)"
   ]
  },
  {
   "cell_type": "code",
   "execution_count": 1,
   "metadata": {
    "collapsed": false,
    "scrolled": true
   },
   "outputs": [
    {
     "name": "stdout",
     "output_type": "stream",
     "text": [
      "Help on function make_frames in module soundings.wyominglib:\n",
      "\n",
      "make_frames(html_doc)\n",
      "    input: web page from wyoming upperair sounding site\n",
      "           http://weather.uwyo.edu/cgi-bin/sounding retrieved by\n",
      "           the requests module\n",
      "    output: attr_dict dictionary with ['header', 'site_id','longitude','latitude', 'elevation', 'units']\n",
      "            sound_dict soudning dictionary with sounding times as keys and sounding as dataframes\n",
      "\n",
      "None\n"
     ]
    }
   ],
   "source": [
    "from importlib import reload\n",
    "import soundings.wyominglib\n",
    "reload(soundings.wyominglib)\n",
    "from soundings.wyominglib import make_frames\n",
    "import pandas as pd\n",
    "from matplotlib import pyplot as plt\n",
    "import requests\n",
    "import datetime\n",
    "from datetime import timezone as tz\n",
    "import tzlocal   #pip install tzlocal\n",
    "import h5py\n",
    "from pprint import pformat\n",
    "print(help(make_frames))"
   ]
  },
  {
   "cell_type": "markdown",
   "metadata": {},
   "source": [
    "### 1.  Form the url using a template with variable substitution from a dictionary"
   ]
  },
  {
   "cell_type": "code",
   "execution_count": 2,
   "metadata": {
    "collapsed": true
   },
   "outputs": [],
   "source": [
    "#this template holds the text that will always be the same,\n",
    "# plus variables that will be substituted in based on dictionary values\n",
    "\n",
    "url_template=(\"http://weather.uwyo.edu/cgi-bin/sounding?\"\n",
    "              \"region={region:s}\"\n",
    "              \"&TYPE=TEXT%3ALIST\"\n",
    "              \"&YEAR={year:s}\"\n",
    "              \"&MONTH={month:s}\"\n",
    "              \"&FROM={start:s}\"\n",
    "              \"&TO={stop:s}\"\n",
    "              \"&STNM={station:s}\")"
   ]
  },
  {
   "cell_type": "markdown",
   "metadata": {},
   "source": [
    "#### Uncomment one of these dictionaries to get a set of soundings.  Dictionary values are inserted into the url_tempate to form the query url.  See wikipedia on [query strings](https://en.wikipedia.org/wiki/Query_string)"
   ]
  },
  {
   "cell_type": "code",
   "execution_count": 3,
   "metadata": {
    "collapsed": false,
    "scrolled": true
   },
   "outputs": [
    {
     "name": "stdout",
     "output_type": "stream",
     "text": [
      "here is the url we call to get the soundings: \n",
      " http://weather.uwyo.edu/cgi-bin/sounding?region=samer&TYPE=TEXT%3ALIST&YEAR=2015&MONTH=2&FROM=0100&TO=2800&STNM=91285\n"
     ]
    }
   ],
   "source": [
    "values=dict(region='samer',year='2015',month='2',start='0100',stop='2800',station='91285')\n",
    "#values=dict(region='nz',year='2013',month='2',start='0100',stop='2800',station='93417')\n",
    "#values=dict(region='naconf',year='2013',month='2',start='0100',stop='2800',station='71802')\n",
    "#values=dict(region='ant',year='2013',month='07',start='0100',stop='2800',station='89009')\n",
    "url=url_template.format_map(values)\n",
    "print('here is the url we call to get the soundings: \\n',url)"
   ]
  },
  {
   "cell_type": "markdown",
   "metadata": {},
   "source": [
    "### 2. Use the requests module to grab the web page"
   ]
  },
  {
   "cell_type": "code",
   "execution_count": 4,
   "metadata": {
    "collapsed": false
   },
   "outputs": [
    {
     "name": "stdout",
     "output_type": "stream",
     "text": [
      "read 655705 bytes\n"
     ]
    }
   ],
   "source": [
    "#\n",
    "# Make do_web False to reuse a page for debugging\n",
    "#\n",
    "do_web = True\n",
    "backup_file='backup.txt'\n",
    "if do_web:\n",
    "    #\n",
    "    # grab the web page that is loaded with this url\n",
    "    #\n",
    "    html_doc = requests.get(url).text\n",
    "    print('read {} bytes'.format(len(html_doc)))\n",
    "    with open(backup_file,'w') as f:\n",
    "        f.write(html_doc)\n",
    "    if len(html_doc) < 2000:\n",
    "        print('debug: short html_doc, something went wrong:',html_doc)\n",
    "        #sys.exit(1)\n",
    "else:\n",
    "    with open(backup_file,'r') as f:\n",
    "        html_doc=f.read()"
   ]
  },
  {
   "cell_type": "markdown",
   "metadata": {
    "collapsed": false
   },
   "source": [
    "### 3.  Parse the sounding page into two dictionaries\n",
    "\n",
    "attr_dict holds attributes ['header', 'site_id','longitude','latitude', 'elevation', 'units']\n",
    "\n",
    "sounding_dict holds the soundings indexed by datetime"
   ]
  },
  {
   "cell_type": "code",
   "execution_count": 5,
   "metadata": {
    "collapsed": false
   },
   "outputs": [
    {
     "name": "stdout",
     "output_type": "stream",
     "text": [
      "header is:  91285 PHTO Hilo Observations at 00Z 01 Feb 2015\n"
     ]
    }
   ],
   "source": [
    "attr_dict,sounding_dict = make_frames(html_doc)"
   ]
  },
  {
   "cell_type": "markdown",
   "metadata": {},
   "source": [
    "### Create a timestamp and convert to UTC"
   ]
  },
  {
   "cell_type": "code",
   "execution_count": 6,
   "metadata": {
    "collapsed": false
   },
   "outputs": [
    {
     "name": "stdout",
     "output_type": "stream",
     "text": [
      "2016-01-27 23:22:37 UTC\n"
     ]
    }
   ],
   "source": [
    "mytz=tzlocal.get_localzone()\n",
    "now=datetime.datetime.now(tz=mytz)\n",
    "now=now.astimezone(tz.utc)\n",
    "timestamp=now.strftime('%Y-%m-%d %H:%M:%S UTC')\n",
    "print(timestamp)"
   ]
  },
  {
   "cell_type": "markdown",
   "metadata": {},
   "source": [
    "### Add history, query and timestamp attributes to the dictionary, and order the keys"
   ]
  },
  {
   "cell_type": "code",
   "execution_count": 7,
   "metadata": {
    "collapsed": true
   },
   "outputs": [],
   "source": [
    "attr_dict['timestamp']=timestamp\n",
    "attr_dict['history']=\"written by test_requests.py\"\n",
    "attr_dict['query']= url\n",
    "#\n",
    "# write the keys out in this order\n",
    "#\n",
    "key_list=['header', 'site_id','longitude','latitude', 'elevation', 'units','history','query','timestamp']"
   ]
  },
  {
   "cell_type": "markdown",
   "metadata": {},
   "source": [
    "### Use HDFStore to write the soundings out keyed by date"
   ]
  },
  {
   "cell_type": "code",
   "execution_count": 8,
   "metadata": {
    "collapsed": false
   },
   "outputs": [],
   "source": [
    "name = 'hilo.h5'    \n",
    "with pd.HDFStore(name,'w') as store:\n",
    "    for key,value in sounding_dict.items():\n",
    "        #need to insert Y in front of the year because\n",
    "        #h5py groups need to be legal python variables\n",
    "        #(remove Y to see error message)\n",
    "        thetime=key.strftime(\"Y%Y_%b_%d_%HZ\")  \n",
    "        store.put(thetime,value,format='table')"
   ]
  },
  {
   "cell_type": "markdown",
   "metadata": {},
   "source": [
    "### Use h5py to store the attributes as metadata"
   ]
  },
  {
   "cell_type": "code",
   "execution_count": 9,
   "metadata": {
    "collapsed": false
   },
   "outputs": [
    {
     "name": "stdout",
     "output_type": "stream",
     "text": [
      "writing key, value:  header 91285 PHTO Hilo Observations at 00Z 01 Feb 2015\n",
      "writing key, value:  site_id 91285\n",
      "writing key, value:  longitude -155.05\n",
      "writing key, value:  latitude 19.72\n",
      "writing key, value:  elevation 1.0\n",
      "writing key, value:  units hPa;m;C;C;%;g/kg;deg;knot;K;K;K\n",
      "writing key, value:  history written by test_requests.py\n",
      "writing key, value:  query http://weather.uwyo.edu/cgi-bin/sounding?region=samer&TYPE=TEXT%3ALIST&YEAR=2015&MONTH=2&FROM=0100&TO=2800&STNM=91285\n",
      "writing key, value:  timestamp 2016-01-27 23:22:37 UTC\n"
     ]
    }
   ],
   "source": [
    "with h5py.File(name,'a') as f:\n",
    "        for key in key_list:\n",
    "            print('writing key, value: ',key,attr_dict[key])\n",
    "            f.attrs[key]=attr_dict[key]\n",
    "        f.close()"
   ]
  },
  {
   "cell_type": "markdown",
   "metadata": {},
   "source": [
    "### Show how to read the data and metadata back in\n",
    "\n",
    "Need to trap IOError because there are 4 empty variables in the hdf file\n",
    "that can't be read.  See [this discussion](https://github.com/h5py/h5py/issues/279)\n",
    "about how to fix this in future h5py releases."
   ]
  },
  {
   "cell_type": "code",
   "execution_count": 10,
   "metadata": {
    "collapsed": false,
    "scrolled": false
   },
   "outputs": [
    {
     "name": "stdout",
     "output_type": "stream",
     "text": [
      "empty key:  TITLE\n",
      "empty key:  CLASS\n",
      "empty key:  VERSION\n",
      "empty key:  PYTABLES_FORMAT_VERSION\n",
      "\n",
      "read in these attributes: \n",
      "\n",
      " {'elevation': 1.0,\n",
      " 'header': '91285 PHTO Hilo Observations at 00Z 01 Feb 2015',\n",
      " 'history': 'written by test_requests.py',\n",
      " 'latitude': 19.719999999999999,\n",
      " 'longitude': -155.05000000000001,\n",
      " 'query': 'http://weather.uwyo.edu/cgi-bin/sounding?region=samer&TYPE=TEXT%3ALIST&YEAR=2015&MONTH=2&FROM=0100&TO=2800&STNM=91285',\n",
      " 'site_id': '91285',\n",
      " 'timestamp': '2016-01-27 23:22:37 UTC',\n",
      " 'units': 'hPa;m;C;C;%;g/kg;deg;knot;K;K;K'}\n"
     ]
    }
   ],
   "source": [
    "attributes={}\n",
    "with h5py.File(name,'r') as f:\n",
    "    keys=f.attrs.keys()\n",
    "    for key in keys:\n",
    "        try:\n",
    "            attributes[key]=f.attrs[key]\n",
    "        except IOError:\n",
    "            print('empty key: ',key)\n",
    "print('\\nread in these attributes: \\n\\n',pformat(attributes))"
   ]
  },
  {
   "cell_type": "code",
   "execution_count": 11,
   "metadata": {
    "collapsed": false
   },
   "outputs": [
    {
     "name": "stdout",
     "output_type": "stream",
     "text": [
      "\n",
      "++++++++++++++++++++++++++++++\n",
      "sounding times:['/Y2015_Feb_01_00Z', '/Y2015_Feb_02_00Z', '/Y2015_Feb_02_12Z', '/Y2015_Feb_03_00Z', '/Y2015_Feb_03_12Z', '/Y2015_Feb_04_00Z', '/Y2015_Feb_04_12Z', '/Y2015_Feb_05_00Z', '/Y2015_Feb_05_12Z', '/Y2015_Feb_06_00Z', '/Y2015_Feb_06_12Z', '/Y2015_Feb_07_00Z', '/Y2015_Feb_07_12Z', '/Y2015_Feb_08_00Z', '/Y2015_Feb_08_12Z', '/Y2015_Feb_09_00Z', '/Y2015_Feb_09_12Z', '/Y2015_Feb_10_00Z', '/Y2015_Feb_10_12Z', '/Y2015_Feb_11_00Z', '/Y2015_Feb_11_12Z', '/Y2015_Feb_12_00Z', '/Y2015_Feb_12_12Z', '/Y2015_Feb_13_00Z', '/Y2015_Feb_13_12Z', '/Y2015_Feb_14_00Z', '/Y2015_Feb_14_12Z', '/Y2015_Feb_15_00Z', '/Y2015_Feb_15_12Z', '/Y2015_Feb_16_00Z', '/Y2015_Feb_16_12Z', '/Y2015_Feb_17_00Z', '/Y2015_Feb_17_12Z', '/Y2015_Feb_18_00Z', '/Y2015_Feb_18_12Z', '/Y2015_Feb_20_00Z', '/Y2015_Feb_20_12Z', '/Y2015_Feb_21_00Z', '/Y2015_Feb_21_12Z', '/Y2015_Feb_22_00Z', '/Y2015_Feb_22_12Z', '/Y2015_Feb_23_00Z', '/Y2015_Feb_23_12Z', '/Y2015_Feb_24_00Z', '/Y2015_Feb_24_12Z', '/Y2015_Feb_25_00Z', '/Y2015_Feb_25_12Z', '/Y2015_Feb_26_00Z', '/Y2015_Feb_26_12Z', '/Y2015_Feb_27_00Z', '/Y2015_Feb_27_12Z', '/Y2015_Feb_28_00Z']\n",
      "++++++++++++++++++++++++++++++\n",
      " \n",
      "\n",
      "++++++++++++++++++++++++++++++\n",
      "columns: Index(['pres', 'hght', 'temp', 'dwpt', 'relh', 'mixr', 'drct', 'sknt', 'thta',\n",
      "       'thte', 'thtv'],\n",
      "      dtype='object')\n",
      "++++++++++++++++++++++++++++++\n",
      " \n",
      "title: : 91285 PHTO Hilo at 2015_Feb_01_00Z\n",
      "variables with units: \n",
      " {'drct': 'deg',\n",
      " 'dwpt': 'C',\n",
      " 'hght': 'm',\n",
      " 'mixr': 'g/kg',\n",
      " 'pres': 'hPa',\n",
      " 'relh': '%',\n",
      " 'sknt': 'knot',\n",
      " 'temp': 'C',\n",
      " 'thta': 'K',\n",
      " 'thte': 'K',\n",
      " 'thtv': 'K'}\n"
     ]
    }
   ],
   "source": [
    "name = 'out.h5'    \n",
    "separator= '\\n' + '+'*30 + '\\n'\n",
    "sounding_dict={}\n",
    "with pd.HDFStore(name,'r') as store:\n",
    "    times=store.keys()\n",
    "    for the_time in times:\n",
    "        sounding_dict[the_time]=store[the_time]\n",
    "sounding=sounding_dict[times[0]]\n",
    "print('{0:}sounding times:{1:}{0:} '.format(separator,times))\n",
    "print('{0:}columns: {1:}{0:} '.format(separator,pformat(sounding.columns)))\n",
    "title_string=attributes['header']\n",
    "index=title_string.find(' Observations at')\n",
    "location=title_string[:index]\n",
    "title='{} at {}'.format(location,times[0][2:])\n",
    "print('title: :',title)\n",
    "units=attributes['units'].split(';')\n",
    "units_dict={}\n",
    "for count,var in enumerate(sounding.columns):\n",
    "    units_dict[var]=units[count]\n",
    "print('variables with units: \\n',pformat(units_dict))"
   ]
  },
  {
   "cell_type": "code",
   "execution_count": 12,
   "metadata": {
    "collapsed": false,
    "scrolled": true
   },
   "outputs": [
    {
     "data": {
      "image/png": "[encoded data removed]",
      "text/plain": [
       "<matplotlib.figure.Figure at 0x10d3d0710>"
      ]
     },
     "metadata": {},
     "output_type": "display_data"
    }
   ],
   "source": [
    "%matplotlib inline\n",
    "key=times[3]  #pick the third sounding\n",
    "the_sounding=sounding_dict[key]\n",
    "m2km=1.e-3  #convert meters to km\n",
    "plt.style.use('ggplot')\n",
    "fig,ax=plt.subplots(1,1,figsize=(8,10))\n",
    "ax.plot(the_sounding['temp'],the_sounding['hght']*m2km,label='temp')\n",
    "ax.plot(the_sounding['dwpt'],the_sounding['hght']*m2km,label='dewpoint')\n",
    "ax.legend()\n",
    "out=ax.set(xlabel=\"temperature (deg C)\",ylabel=\"height (km)\",\n",
    "      title =title)\n",
    "out=ax.set(ylim=[0,2],xlim=[-15,30])"
   ]
  },
  {
   "cell_type": "code",
   "execution_count": 13,
   "metadata": {
    "collapsed": false
   },
   "outputs": [
    {
     "name": "stdout",
     "output_type": "stream",
     "text": [
      "Dew point temperature between /Y2015_Feb_01_00Z to /Y2015_Feb_28_00Z\n"
     ]
    },
    {
     "data": {
      "image/png": "[encoded data removed]",
      "text/plain": [
       "<matplotlib.figure.Figure at 0x10d2428d0>"
      ]
     },
     "metadata": {},
     "output_type": "display_data"
    }
   ],
   "source": [
    "fig,ax=plt.subplots(1,1,figsize=(8,10))\n",
    "for the_time in times:\n",
    "    the_sound=sounding_dict[the_time]\n",
    "    ax.plot(the_sound['dwpt'],the_sound['hght']*m2km)\n",
    "out=ax.set(xlabel=\"dew point temperature (deg C)\",ylabel=\"height (km)\",\n",
    "      title =location)\n",
    "out=ax.set(ylim=[0,2],xlim=[-15,30])\n",
    "print('Dew point temperature between {} to {}'.format(times[0],times[-1]))"
   ]
  },
  {
   "cell_type": "code",
   "execution_count": null,
   "metadata": {
    "collapsed": true
   },
   "outputs": [],
   "source": []
  }
 ],
 "metadata": {
  "kernelspec": {
   "display_name": "Python 3",
   "language": "python",
   "name": "python3"
  },
  "language_info": {
   "codemirror_mode": {
    "name": "ipython",
    "version": 3
   },
   "file_extension": ".py",
   "mimetype": "text/x-python",
   "name": "python",
   "nbconvert_exporter": "python",
   "pygments_lexer": "ipython3",
   "version": "3.5.1"
  }
 },
 "nbformat": 4,
 "nbformat_minor": 0
}
